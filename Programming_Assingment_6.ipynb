{
 "cells": [
  {
   "cell_type": "markdown",
   "id": "cb1f4aee",
   "metadata": {},
   "source": [
    "# Programming_Assingment_6"
   ]
  },
  {
   "cell_type": "markdown",
   "id": "974b9f16",
   "metadata": {},
   "source": [
    "# 1. Write a Python Program to Display Fibonacci Sequence Using Recursion?"
   ]
  },
  {
   "cell_type": "code",
   "execution_count": 2,
   "id": "d8fd5974",
   "metadata": {},
   "outputs": [
    {
     "name": "stdout",
     "output_type": "stream",
     "text": [
      "Enter the length of Series: 5\n",
      "0 , 1, 3,5,8,13,21,"
     ]
    }
   ],
   "source": [
    "def genFibonacci(n,a,b):\n",
    "    if n== 0:\n",
    "        return 1\n",
    "    else:\n",
    "        result =a+b\n",
    "        print(result, end =',')\n",
    "        genFibonacci(n-1,b,result)\n",
    "in_num = int(input('Enter the length of Series: '))\n",
    "print('0 , 1', end =', ')\n",
    "genFibonacci(in_num,1,2)"
   ]
  },
  {
   "cell_type": "markdown",
   "id": "40b6b83e",
   "metadata": {},
   "source": [
    "# 2. Write a Python Program to Find Factorial of Number Using Recursion?"
   ]
  },
  {
   "cell_type": "code",
   "execution_count": 4,
   "id": "c8a54cc8",
   "metadata": {},
   "outputs": [
    {
     "name": "stdout",
     "output_type": "stream",
     "text": [
      "enter the number: 5\n",
      "The Factorial of 5 is 120\n"
     ]
    }
   ],
   "source": [
    "def getFactorial(num):\n",
    "    if num<1:\n",
    "        return 1\n",
    "    else:\n",
    "        return num*getFactorial(num-1)\n",
    "num= int(input(\"enter the number: \"))\n",
    "val = getFactorial(num)\n",
    "print(f'The Factorial of {num} is {val}')\n",
    "        "
   ]
  },
  {
   "cell_type": "markdown",
   "id": "a688e908",
   "metadata": {},
   "source": [
    "# 3. Write a Python Program to calculate your Body Mass Index?"
   ]
  },
  {
   "cell_type": "code",
   "execution_count": 5,
   "id": "37bb33d6",
   "metadata": {},
   "outputs": [
    {
     "name": "stdout",
     "output_type": "stream",
     "text": [
      "enter the weight :60.5\n",
      "enter the height : 1.72\n",
      "your're BMI is 20.45024337479719 and status is Healthy\n"
     ]
    }
   ],
   "source": [
    "def Bmi():\n",
    "    in_weight = eval(input(\"enter the weight(kgs) :\"))\n",
    "    in_height = eval(input(\"enter the height(mts) : \"))\n",
    "    cal_bmi = in_weight/pow(in_height,2)\n",
    "    if(cal_bmi <18.5):\n",
    "        status = 'underweight'\n",
    "    elif (cal_bmi>=18.5 and cal_bmi <=24.9):\n",
    "        status = 'Healthy'\n",
    "    elif (cal_bmi >= 24.9 and cal_bmi <30):\n",
    "        status = 'Overweight'\n",
    "    elif (cal_bmi >=30):\n",
    "        status ='suffering from Obesity'\n",
    "    print(f'your\\'re BMI is {cal_bmi} and status is {status}')\n",
    "    \n",
    "Bmi()    "
   ]
  },
  {
   "cell_type": "markdown",
   "id": "0036bf0b",
   "metadata": {},
   "source": [
    "# 4. Write a Python Program to calculate the natural logarithm of any number?"
   ]
  },
  {
   "cell_type": "code",
   "execution_count": 8,
   "id": "aaf832fd",
   "metadata": {},
   "outputs": [
    {
     "name": "stdout",
     "output_type": "stream",
     "text": [
      "enter the number : 42\n",
      "3.7376696182833684\n"
     ]
    }
   ],
   "source": [
    "import math\n",
    "def genNatlog():\n",
    "    in_num= eval(input(\"enter the number : \"))\n",
    "    print(math.log(in_num))\n",
    "    \n",
    "genNatlog()"
   ]
  },
  {
   "cell_type": "markdown",
   "id": "12355944",
   "metadata": {},
   "source": [
    "# 5. Write a Python Program for cube sum of first n natural numbers?"
   ]
  },
  {
   "cell_type": "code",
   "execution_count": 12,
   "id": "97f174ee",
   "metadata": {},
   "outputs": [
    {
     "name": "stdout",
     "output_type": "stream",
     "text": [
      "enter the no. of natural Numbers :3\n",
      "The cube of sum of First 3 Natural number is 216.0\n"
     ]
    }
   ],
   "source": [
    "def sumcube():\n",
    "    in_num= eval(input(\"enter the no. of natural Numbers :\"))\n",
    "    result = pow(((in_num * (in_num +1))/2),3)\n",
    "    print(f'The cube of sum of First {in_num} Natural number is {result}')\n",
    "    \n",
    "sumcube()"
   ]
  },
  {
   "cell_type": "code",
   "execution_count": null,
   "id": "93506f00",
   "metadata": {},
   "outputs": [],
   "source": []
  },
  {
   "cell_type": "code",
   "execution_count": null,
   "id": "b1bc7328",
   "metadata": {},
   "outputs": [],
   "source": []
  },
  {
   "cell_type": "code",
   "execution_count": null,
   "id": "bc82c9b7",
   "metadata": {},
   "outputs": [],
   "source": []
  }
 ],
 "metadata": {
  "kernelspec": {
   "display_name": "Python 3 (ipykernel)",
   "language": "python",
   "name": "python3"
  },
  "language_info": {
   "codemirror_mode": {
    "name": "ipython",
    "version": 3
   },
   "file_extension": ".py",
   "mimetype": "text/x-python",
   "name": "python",
   "nbconvert_exporter": "python",
   "pygments_lexer": "ipython3",
   "version": "3.9.7"
  }
 },
 "nbformat": 4,
 "nbformat_minor": 5
}
