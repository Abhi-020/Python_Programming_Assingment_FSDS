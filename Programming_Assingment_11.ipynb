{
 "cells": [
  {
   "cell_type": "markdown",
   "id": "ec14bf34",
   "metadata": {},
   "source": [
    "# Assignment_11_ Solution"
   ]
  },
  {
   "cell_type": "markdown",
   "id": "f30a6768",
   "metadata": {},
   "source": [
    "# 1. Write a Python program to find words which are greater than given length k?"
   ]
  },
  {
   "cell_type": "code",
   "execution_count": 13,
   "id": "923f9cc0",
   "metadata": {},
   "outputs": [
    {
     "name": "stdout",
     "output_type": "stream",
     "text": [
      "enter the string : Data is everything\n",
      "enter the length of the string : 4\n",
      "everything\n"
     ]
    }
   ],
   "source": [
    "def checklengthofstring():\n",
    "    in_str = input(\"enter the string : \")\n",
    "    in_len = int(input(\"enter the length of the string : \"))\n",
    "    out_str=[]\n",
    "    for i in in_str.split(\" \"):\n",
    "        if len(i) > in_len:\n",
    "            out_str.append(i)\n",
    "    print(','.join(out_str))\n",
    "    \n",
    "checklengthofstring()"
   ]
  },
  {
   "cell_type": "markdown",
   "id": "db829130",
   "metadata": {},
   "source": [
    "# 2. Write a Python program for removing i-th character from a string?"
   ]
  },
  {
   "cell_type": "code",
   "execution_count": 16,
   "id": "3a030506",
   "metadata": {},
   "outputs": [
    {
     "name": "stdout",
     "output_type": "stream",
     "text": [
      "enter the string : abhishek singh\n",
      "enter the ith character : 12\n",
      " abhishek sinh\n"
     ]
    }
   ],
   "source": [
    "def removechar():\n",
    "    in_str =input(\"enter the string : \")\n",
    "    in_char =int(input(\"enter the ith character : \"))\n",
    "    out_str =' '\n",
    "    for i in range(len(in_str)):\n",
    "        if i != in_char:\n",
    "            out_str= out_str + in_str[i]\n",
    "    print(out_str)\n",
    "\n",
    "removechar()"
   ]
  },
  {
   "cell_type": "markdown",
   "id": "d5e3bd71",
   "metadata": {},
   "source": [
    "# 3. Write a Python program to split and join a string?"
   ]
  },
  {
   "cell_type": "code",
   "execution_count": 21,
   "id": "686371dd",
   "metadata": {},
   "outputs": [
    {
     "name": "stdout",
     "output_type": "stream",
     "text": [
      "enter the string : full stack data science\n",
      "split string: ['full', 'stack', 'data', 'science']\n",
      " join string : full stack data science\n"
     ]
    }
   ],
   "source": [
    "def splitjoin():\n",
    "    in_str =input(\"enter the string : \")\n",
    "    print(f\"split string: {in_str.split(' ')}\")\n",
    "    print(f\" join string : {' '.join(in_str.split(' '))}\")\n",
    "    \n",
    "splitjoin()\n",
    "    "
   ]
  },
  {
   "cell_type": "markdown",
   "id": "3e57cae3",
   "metadata": {},
   "source": [
    "# 4. Write a Python to check if a given string is binary string or not?"
   ]
  },
  {
   "cell_type": "code",
   "execution_count": 34,
   "id": "4215887f",
   "metadata": {},
   "outputs": [
    {
     "name": "stdout",
     "output_type": "stream",
     "text": [
      "enter the string : 145454\n",
      "145454is not Binary string\n",
      "enter the string : 011001\n",
      "011001is Binary string\n"
     ]
    }
   ],
   "source": [
    "def checkBinary():\n",
    "    in_str =input(\"enter the string : \")\n",
    "    s=0\n",
    "    for i in in_str:\n",
    "        if i in ['0','1']:\n",
    "            s=1\n",
    "            continue\n",
    "        else:\n",
    "            s=0\n",
    "            break\n",
    "    stat = 'is Binary string' if s==1 else 'is not Binary string'\n",
    "    print(f'{in_str}{stat}')\n",
    "    \n",
    "    \n",
    "checkBinary()\n",
    "checkBinary()\n",
    "    "
   ]
  },
  {
   "cell_type": "markdown",
   "id": "88874a9b",
   "metadata": {},
   "source": [
    "# 5. Write a Python program to find uncommon words from two Strings?"
   ]
  },
  {
   "cell_type": "code",
   "execution_count": 36,
   "id": "83e908b6",
   "metadata": {},
   "outputs": [
    {
     "name": "stdout",
     "output_type": "stream",
     "text": [
      "enter the first string : Data Scientist\n",
      "enter the second string : Data Analyst\n",
      " Un common words are  {'Analyst', 'Scientist'}\n"
     ]
    }
   ],
   "source": [
    "def Uncommon():\n",
    "    in_str_first =set(input(\"enter the first string : \").split(' '))\n",
    "    in_str_second=set(input(\"enter the second string : \").split(' '))\n",
    "    out_str = (in_str_first.union(in_str_second)).difference(in_str_first.intersection(in_str_second))\n",
    "    print(\" Un common words are \" , out_str)\n",
    "\n",
    "Uncommon()"
   ]
  },
  {
   "cell_type": "markdown",
   "id": "7fc758a5",
   "metadata": {},
   "source": [
    "# 6. Write a Python to find all duplicate characters in string?\n"
   ]
  },
  {
   "cell_type": "code",
   "execution_count": 45,
   "id": "6f1555d2",
   "metadata": {},
   "outputs": [
    {
     "name": "stdout",
     "output_type": "stream",
     "text": [
      " enter the string : INEURON DATA SCIENCE\n",
      "Duplicate Characters are : [' ', 'N', 'C', 'A', 'E', 'I']\n"
     ]
    }
   ],
   "source": [
    "def findDuplicate():\n",
    "    in_str = input(\" enter the string : \")\n",
    "    dup=[]\n",
    "    non_dup=[]\n",
    "    for i in in_str:\n",
    "        if i not in non_dup:\n",
    "            non_dup.append(i)\n",
    "        else:\n",
    "            dup.append(i)\n",
    "    print(f'Duplicate Characters are : {list(set(dup))}')\n",
    "\n",
    "\n",
    "findDuplicate()    \n"
   ]
  },
  {
   "cell_type": "markdown",
   "id": "b192886a",
   "metadata": {},
   "source": [
    "# 7. Write a Python Program to check if a string contains any special character?"
   ]
  },
  {
   "cell_type": "code",
   "execution_count": 48,
   "id": "57a86888",
   "metadata": {},
   "outputs": [
    {
     "name": "stdout",
     "output_type": "stream",
     "text": [
      " enter the string : div@yanshu\n",
      " There are 1 Special charactrs in div@yanshu which are ['@']\n"
     ]
    }
   ],
   "source": [
    "def checkSpecial():\n",
    "    in_str = input(\" enter the string : \")\n",
    "    spl_char = '[@_!#$%^&*()<>?/\\|}{~:]'\n",
    "    c=0\n",
    "    char=[]\n",
    "    for i in in_str:\n",
    "        if i in spl_char:\n",
    "            char.append(i)\n",
    "            c=c+1\n",
    "    print(f' There are {c} Special charactrs in {in_str} which are {char}')\n",
    "    \n",
    "    \n",
    "checkSpecial()"
   ]
  },
  {
   "cell_type": "code",
   "execution_count": null,
   "id": "5e160d67",
   "metadata": {},
   "outputs": [],
   "source": []
  }
 ],
 "metadata": {
  "kernelspec": {
   "display_name": "Python 3 (ipykernel)",
   "language": "python",
   "name": "python3"
  },
  "language_info": {
   "codemirror_mode": {
    "name": "ipython",
    "version": 3
   },
   "file_extension": ".py",
   "mimetype": "text/x-python",
   "name": "python",
   "nbconvert_exporter": "python",
   "pygments_lexer": "ipython3",
   "version": "3.9.7"
  }
 },
 "nbformat": 4,
 "nbformat_minor": 5
}
