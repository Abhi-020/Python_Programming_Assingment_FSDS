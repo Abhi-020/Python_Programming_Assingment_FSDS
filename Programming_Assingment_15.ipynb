{
 "cells": [
  {
   "cell_type": "markdown",
   "id": "577c2da0",
   "metadata": {},
   "source": [
    "# Programming_assingment_15"
   ]
  },
  {
   "cell_type": "markdown",
   "id": "7105750b",
   "metadata": {},
   "source": [
    "# Question 1:Please write a program using generator to print the numbers which can be divisible by 5 and 7 between 0 and n in comma separated form while n is input by console.\n",
    "Example:\n",
    "If the following n is given as input to the program: 100\n",
    "Then, the output of the program should be: 0,35,70\n"
   ]
  },
  {
   "cell_type": "code",
   "execution_count": 6,
   "id": "131bb6d6",
   "metadata": {},
   "outputs": [
    {
     "name": "stdout",
     "output_type": "stream",
     "text": [
      "0,35,70,"
     ]
    }
   ],
   "source": [
    "def checkDivisible(num):\n",
    "    for i in range(0,num):\n",
    "        if(i%5==0) and (i%7==0):\n",
    "            print(i , end =',')\n",
    "            \n",
    "checkDivisible(100)"
   ]
  },
  {
   "cell_type": "markdown",
   "id": "7f0a0095",
   "metadata": {},
   "source": [
    "# Question 2:Please write a program using generator to print the even numbers between 0 and n in comma separated form while n is input by console.\n",
    "Example:\n",
    "If the following n is given as input to the program:\n",
    "10\n",
    "Then, the output of the program should be:\n",
    "0,2,4,6,8,10\n"
   ]
  },
  {
   "cell_type": "code",
   "execution_count": 7,
   "id": "fc18d3d2",
   "metadata": {},
   "outputs": [
    {
     "name": "stdout",
     "output_type": "stream",
     "text": [
      "0,2,4,6,8,"
     ]
    }
   ],
   "source": [
    "def printEven(num):\n",
    "    for i in range(0,num):\n",
    "        if i%2==0 :\n",
    "            print(i , end=',')\n",
    "            \n",
    "printEven(10)"
   ]
  },
  {
   "cell_type": "markdown",
   "id": "e4978f23",
   "metadata": {},
   "source": [
    "# Question 3:Please write a program using list comprehension to print the Fibonacci Sequence in comma separated form with a given n input by console.\n",
    "The Fibonacci Sequence is computed based on the following formula:\n",
    "f(n)=0 if n=0\n",
    "f(n)=1 if n=1\n",
    "f(n)=f(n-1)+f(n-2) if n>1\n",
    "\n",
    "Example:\n",
    "If the following n is given as input to the program:\n",
    "7\n",
    "Then, the output of the program should be:\n",
    "0,1,1,2,3,5,8,13\n"
   ]
  },
  {
   "cell_type": "code",
   "execution_count": 11,
   "id": "57b9c3ee",
   "metadata": {},
   "outputs": [
    {
     "name": "stdout",
     "output_type": "stream",
     "text": [
      "how many terms7\n",
      "fibonacci Sequence: \n",
      "0,1,1,2,3,5,8,13,"
     ]
    }
   ],
   "source": [
    "def Fibonacci():\n",
    "    num =int(input(\"how many terms\"))\n",
    "    a=0\n",
    "    b=1\n",
    "    c=0\n",
    "    if num<=0:\n",
    "        print(\"please enter a positive integer\")\n",
    "    elif num ==1:\n",
    "        print(\"series upto\", num, \",\")\n",
    "    else:\n",
    "        print(\"fibonacci Sequence: \")\n",
    "        while c <= num:\n",
    "            print(a, end =',')\n",
    "            nth = a+b\n",
    "            a=b\n",
    "            b= nth\n",
    "            c +=1\n",
    "        \n",
    "        \n",
    "Fibonacci()    "
   ]
  },
  {
   "cell_type": "markdown",
   "id": "6d9f6f3a",
   "metadata": {},
   "source": [
    "# Question 4:Assuming that we have some email addresses in the \"username@companyname.com\" format, please write program to print the user name of a given email address. Both user names and company names are composed of letters only.\n",
    "Example:\n",
    "If the following email address is given as input to the program:\n",
    "john@google.com\n",
    "Then, the output of the program should be:\n",
    "john\n"
   ]
  },
  {
   "cell_type": "code",
   "execution_count": 28,
   "id": "5526ae0a",
   "metadata": {},
   "outputs": [
    {
     "name": "stdout",
     "output_type": "stream",
     "text": [
      "enter a mailid :abhisheksingh@gmail.com\n",
      "first name of abhisheksingh@gmail.com is abhisheksingh\n",
      "enter a mailid :aksingh1@everestind.com\n",
      "first name of aksingh1@everestind.com is aksingh1\n",
      "enter a mailid :ineuron@ai\n",
      "first name of ineuron@ai is ineuron\n"
     ]
    }
   ],
   "source": [
    "def Username():\n",
    "    in_str= (input(\"enter a mailid :\"))\n",
    "    out_str =in_str.split('@')\n",
    "    print(f'first name of {in_str} is {out_str[0]}')\n",
    "  \n",
    "for i in range(3):\n",
    "        Username()"
   ]
  },
  {
   "cell_type": "markdown",
   "id": "38179e15",
   "metadata": {},
   "source": [
    "# Question 5:\n",
    "Define a class named Shape and its subclass Square. The Square class has an init function which takes a length as argument. Both classes have a area function which can print the area of the shape where Shape's area is 0 by default.\n"
   ]
  },
  {
   "cell_type": "code",
   "execution_count": 37,
   "id": "6acbeead",
   "metadata": {},
   "outputs": [
    {
     "name": "stdout",
     "output_type": "stream",
     "text": [
      "1600\n"
     ]
    }
   ],
   "source": [
    "class Shape:\n",
    "    def area(self):\n",
    "        return 0\n",
    "    \n",
    "class square(Shape):\n",
    "    def __init__(self,length):\n",
    "        self.length= length\n",
    "    def area(self):\n",
    "        return self.length*self.length\n",
    "    \n",
    "x=square(40)\n",
    "print(x.area())"
   ]
  },
  {
   "cell_type": "code",
   "execution_count": null,
   "id": "a47d7896",
   "metadata": {},
   "outputs": [],
   "source": []
  }
 ],
 "metadata": {
  "kernelspec": {
   "display_name": "Python 3 (ipykernel)",
   "language": "python",
   "name": "python3"
  },
  "language_info": {
   "codemirror_mode": {
    "name": "ipython",
    "version": 3
   },
   "file_extension": ".py",
   "mimetype": "text/x-python",
   "name": "python",
   "nbconvert_exporter": "python",
   "pygments_lexer": "ipython3",
   "version": "3.9.7"
  }
 },
 "nbformat": 4,
 "nbformat_minor": 5
}
