{
 "cells": [
  {
   "cell_type": "markdown",
   "id": "35ff5c02",
   "metadata": {},
   "source": [
    "# Programming_assignment_1"
   ]
  },
  {
   "cell_type": "markdown",
   "id": "18b84f87",
   "metadata": {},
   "source": [
    "# 1.\tWrite a Python program to print \"Hello Python\"?"
   ]
  },
  {
   "cell_type": "code",
   "execution_count": 1,
   "id": "9be3cc75",
   "metadata": {},
   "outputs": [
    {
     "name": "stdout",
     "output_type": "stream",
     "text": [
      "Hello Python\n"
     ]
    }
   ],
   "source": [
    "print(\"Hello Python\")"
   ]
  },
  {
   "cell_type": "markdown",
   "id": "d32b06c1",
   "metadata": {},
   "source": [
    "# 2.\tWrite a Python program to do arithmetical operations addition and division.?"
   ]
  },
  {
   "cell_type": "code",
   "execution_count": 6,
   "id": "fe710015",
   "metadata": {},
   "outputs": [
    {
     "name": "stdout",
     "output_type": "stream",
     "text": [
      "enter 1st number  25\n",
      "enter 2nd number  5\n",
      "addition  30\n",
      "division  5.0\n"
     ]
    }
   ],
   "source": [
    "a= int(input(\"enter 1st number  \"))\n",
    "b= int(input(\"enter 2nd number  \"))\n",
    "add= a+b\n",
    "print(\"addition \", add)\n",
    "div = a/b\n",
    "print(\"division \", div)"
   ]
  },
  {
   "cell_type": "markdown",
   "id": "07df58ce",
   "metadata": {},
   "source": [
    "# 3.\tWrite a Python program to find the area of a triangle?"
   ]
  },
  {
   "cell_type": "code",
   "execution_count": 14,
   "id": "c901672e",
   "metadata": {},
   "outputs": [
    {
     "name": "stdout",
     "output_type": "stream",
     "text": [
      "enter the first side 5\n",
      "enter the second side 6\n",
      "enter the third side 7\n",
      "area of traiangle is   14.696938456699069\n"
     ]
    }
   ],
   "source": [
    "a= float(input(\"enter the first side \"))\n",
    "b= float(input(\"enter the second side \"))\n",
    "c= float(input(\"enter the third side \"))\n",
    "s= (a+b+c)/2 # calcultae the semi-parameter\n",
    "\n",
    "area= (s*(s-a)*(s-b)*(s-c))**0.5\n",
    "\n",
    "print(\"area of traiangle is  \", area)"
   ]
  },
  {
   "cell_type": "markdown",
   "id": "7b517eb9",
   "metadata": {},
   "source": [
    "# 4.\tWrite a Python program to swap two variables?"
   ]
  },
  {
   "cell_type": "code",
   "execution_count": 18,
   "id": "378c70c9",
   "metadata": {},
   "outputs": [
    {
     "name": "stdout",
     "output_type": "stream",
     "text": [
      "enter first variable a= asd\n",
      "enter the second variable b= zxc\n",
      "zxc asd\n"
     ]
    }
   ],
   "source": [
    "a = input(\"enter first variable a= \")\n",
    "b= input(\"enter the second variable b= \")\n",
    " \n",
    "t= a\n",
    "a=b\n",
    "b=t\n",
    "print (a,b)"
   ]
  },
  {
   "cell_type": "markdown",
   "id": "5503063e",
   "metadata": {},
   "source": [
    "# 5.\tWrite a Python program to generate a random number?"
   ]
  },
  {
   "cell_type": "code",
   "execution_count": 26,
   "id": "f5d3ece8",
   "metadata": {},
   "outputs": [
    {
     "name": "stdout",
     "output_type": "stream",
     "text": [
      "0.27893729873453343\n"
     ]
    }
   ],
   "source": [
    "import random\n",
    "number= random.random()\n",
    "print(number)\n"
   ]
  },
  {
   "cell_type": "code",
   "execution_count": null,
   "id": "be979eae",
   "metadata": {},
   "outputs": [],
   "source": []
  },
  {
   "cell_type": "code",
   "execution_count": null,
   "id": "9740a491",
   "metadata": {},
   "outputs": [],
   "source": []
  }
 ],
 "metadata": {
  "kernelspec": {
   "display_name": "Python 3 (ipykernel)",
   "language": "python",
   "name": "python3"
  },
  "language_info": {
   "codemirror_mode": {
    "name": "ipython",
    "version": 3
   },
   "file_extension": ".py",
   "mimetype": "text/x-python",
   "name": "python",
   "nbconvert_exporter": "python",
   "pygments_lexer": "ipython3",
   "version": "3.9.7"
  }
 },
 "nbformat": 4,
 "nbformat_minor": 5
}
