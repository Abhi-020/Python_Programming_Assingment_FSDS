{
 "cells": [
  {
   "cell_type": "markdown",
   "id": "1ddcc1b0",
   "metadata": {},
   "source": [
    "# Programming_Assingment_19"
   ]
  },
  {
   "cell_type": "markdown",
   "id": "479de350",
   "metadata": {},
   "source": [
    "# Question1:Create a function that takes a string and returns a string in which each character is repeated once.\n",
    "Examples\n",
    "double_char(\"String\") ➞ \"SSttrriinngg\"\n",
    "\n",
    "double_char(\"Hello World!\") ➞ \"HHeelllloo  WWoorrlldd!!\"\n",
    "\n",
    "double_char(\"1234!_ \") ➞ \"11223344!!__  \"\n"
   ]
  },
  {
   "cell_type": "code",
   "execution_count": 3,
   "id": "5b242d0a",
   "metadata": {},
   "outputs": [
    {
     "name": "stdout",
     "output_type": "stream",
     "text": [
      "enter the string : String\n",
      " SSttrriinngg\n",
      "enter the string : Hello World\n",
      " HHeelllloo  WWoorrlldd\n",
      "enter the string : 1234!_\n",
      " 11223344!!__\n"
     ]
    }
   ],
   "source": [
    "def PrintRepeatedChar():\n",
    "    in_str= input(\"enter the string : \")\n",
    "    out_str =' '\n",
    "    for i in in_str:\n",
    "        out_str += i*2\n",
    "    print(out_str)\n",
    "\n",
    "PrintRepeatedChar()\n",
    "PrintRepeatedChar()\n",
    "PrintRepeatedChar()"
   ]
  },
  {
   "cell_type": "markdown",
   "id": "3b979432",
   "metadata": {},
   "source": [
    "# Question2:Create a function that reverses a boolean value and returns the string \"boolean expected\" if another variable type is given.\n",
    "Examples\n",
    "reverse(True) ➞ False\n",
    "\n",
    "reverse(False) ➞ True\n",
    "\n",
    "reverse(0) ➞ \"boolean expected\"\n",
    "\n",
    "reverse(None) ➞ \"boolean expected\"\n"
   ]
  },
  {
   "cell_type": "code",
   "execution_count": 5,
   "id": "65120854",
   "metadata": {},
   "outputs": [
    {
     "name": "stdout",
     "output_type": "stream",
     "text": [
      "reverse(True) --> False\n",
      "reverse(False) --> False\n",
      "reverse(0) --> Boolean Expected\n",
      "reverse(None) --> Boolean Expected\n"
     ]
    }
   ],
   "source": [
    "def reverse(in_bool):\n",
    "    if type(in_bool)== bool:\n",
    "        return not bool\n",
    "    else:\n",
    "        return \"Boolean Expected\"\n",
    "    \n",
    "print(f'reverse(True) --> {reverse(True)}')\n",
    "print(f'reverse(False) --> {reverse(False)}')\n",
    "print(f'reverse(0) --> {reverse(0)}')\n",
    "print(f'reverse(None) --> {reverse(None)}')\n",
    "    "
   ]
  },
  {
   "cell_type": "markdown",
   "id": "413c85ff",
   "metadata": {},
   "source": [
    "# Question3:Create a function that returns the thickness (in meters) of a piece of paper after folding it n number of times. The paper starts off with a thickness of 0.5mm.\n",
    "Examples\n",
    "num_layers(1) ➞ \"0.001m\"\n",
    "# Paper folded once is 1mm (equal to 0.001m)\n",
    "\n",
    "num_layers(4) ➞ \"0.008m\"\n",
    "# Paper folded 4 times is 8mm (equal to 0.008m)\n",
    "\n",
    "num_layers(21) ➞ \"1048.576m\"\n",
    "# Paper folded 21 times is 1048576mm (equal to 1048.576m)\n"
   ]
  },
  {
   "cell_type": "code",
   "execution_count": 7,
   "id": "7960dd7f",
   "metadata": {},
   "outputs": [
    {
     "name": "stdout",
     "output_type": "stream",
     "text": [
      "Output --> 0.001m\n",
      "Output --> 0.008m\n",
      "Output --> 1048.576m\n"
     ]
    }
   ],
   "source": [
    "def num_layer(num):\n",
    "    out_num =0.5\n",
    "    for i in range(num):\n",
    "        out_num *= 2\n",
    "    print(f'Output --> {out_num/1000}m')\n",
    "    \n",
    "num_layer(1)\n",
    "num_layer(4)\n",
    "num_layer(21)"
   ]
  },
  {
   "cell_type": "markdown",
   "id": "ce59ce44",
   "metadata": {},
   "source": [
    "# Question4:Create a function that takes a single string as argument and returns an ordered list containing the indices of all capital letters in the string.\n",
    "Examples\n",
    "index_of_caps(\"eDaBiT\") ➞ [1, 3, 5]\n",
    "\n",
    "index_of_caps(\"eQuINoX\") ➞ [1, 3, 4, 6]\n",
    "\n",
    "index_of_caps(\"determine\") ➞ []\n",
    "\n",
    "index_of_caps(\"STRIKE\") ➞ [0, 1, 2, 3, 4, 5]\n",
    "\n",
    "index_of_caps(\"sUn\") ➞ [1]\n"
   ]
  },
  {
   "cell_type": "code",
   "execution_count": 13,
   "id": "3f6b68fd",
   "metadata": {},
   "outputs": [
    {
     "name": "stdout",
     "output_type": "stream",
     "text": [
      "enter the input string : eDaBiT\n",
      "[1, 3, 5]\n",
      "enter the input string : eQuINoX\n",
      "[1, 3, 4, 6]\n",
      "enter the input string : determine\n",
      "[]\n",
      "enter the input string : STRIKE\n",
      "[0, 1, 2, 3, 4, 5]\n"
     ]
    }
   ],
   "source": [
    "def genUppercase():\n",
    "    in_str = input(\"enter the input string : \")\n",
    "    out_indices = []\n",
    "    for i in in_str:\n",
    "        if i.isupper():\n",
    "            out_indices.append(in_str.index(i))\n",
    "    print(out_indices)\n",
    "    \n",
    "    \n",
    "genUppercase()\n",
    "genUppercase()\n",
    "genUppercase()\n",
    "genUppercase()"
   ]
  },
  {
   "cell_type": "markdown",
   "id": "90365246",
   "metadata": {},
   "source": [
    "# Question5:Using list comprehensions, create a function that finds all even numbers from 1 to the given number.\n",
    "Examples\n",
    "find_even_nums(8) ➞ [2, 4, 6, 8]\n",
    "\n",
    "find_even_nums(4) ➞ [2, 4]\n",
    "\n",
    "find_even_nums(2) ➞ [2]\n"
   ]
  },
  {
   "cell_type": "code",
   "execution_count": 17,
   "id": "6bb7d2bb",
   "metadata": {},
   "outputs": [
    {
     "name": "stdout",
     "output_type": "stream",
     "text": [
      "enter the number8\n",
      "[2, 4, 6, 8]\n",
      "enter the number4\n",
      "[2, 4]\n",
      "enter the number2\n",
      "[2]\n"
     ]
    }
   ],
   "source": [
    "def GenEven():\n",
    "    in_num = int(input(\"enter the number\"))\n",
    "    out_num =[]\n",
    "    for i in range(1,in_num+1):\n",
    "        if i%2 == 0:\n",
    "            out_num.append(i)\n",
    "    print(out_num)\n",
    "    \n",
    "GenEven()\n",
    "GenEven()\n",
    "GenEven()"
   ]
  },
  {
   "cell_type": "code",
   "execution_count": null,
   "id": "fbc561b5",
   "metadata": {},
   "outputs": [],
   "source": []
  }
 ],
 "metadata": {
  "kernelspec": {
   "display_name": "Python 3 (ipykernel)",
   "language": "python",
   "name": "python3"
  },
  "language_info": {
   "codemirror_mode": {
    "name": "ipython",
    "version": 3
   },
   "file_extension": ".py",
   "mimetype": "text/x-python",
   "name": "python",
   "nbconvert_exporter": "python",
   "pygments_lexer": "ipython3",
   "version": "3.9.7"
  }
 },
 "nbformat": 4,
 "nbformat_minor": 5
}
