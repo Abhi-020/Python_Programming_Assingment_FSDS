{
 "cells": [
  {
   "cell_type": "markdown",
   "id": "ce3150fc",
   "metadata": {},
   "source": [
    "# Programming_Assingment_8"
   ]
  },
  {
   "cell_type": "markdown",
   "id": "5936ff3b",
   "metadata": {},
   "source": [
    "# 1. Write a Python Program to Add Two Matrices?"
   ]
  },
  {
   "cell_type": "code",
   "execution_count": 2,
   "id": "1b129108",
   "metadata": {},
   "outputs": [
    {
     "name": "stdout",
     "output_type": "stream",
     "text": [
      "Inputs : [[1, 2, 3], [4, 5, 6], [7, 8, 9]],[[9, 8, 7], [6, 5, 4], [3, 2, 1]]\n",
      " output : [[10, 10, 10], [10, 10, 10], [10, 10, 10]]\n",
      "Inputs : [[2, 3, 5], [1, 1, 1], [2, 2, 2]],[[4, 3, 5], [1, 2, 3], [3, 2, 1]]\n",
      " output : [[6, 6, 10], [2, 3, 4], [5, 4, 3]]\n"
     ]
    }
   ],
   "source": [
    "def addMatrices(a,b):\n",
    "    print(f'Inputs : {a},{b}')\n",
    "    if len(a) == len(b):\n",
    "        out_matrix=[]\n",
    "        for i in range(len(a)):\n",
    "            if len(a[i]) == len(b[i]):\n",
    "                out_matrix.append([])\n",
    "                for j in range(len(a[i])):\n",
    "                    out_matrix[i].append(a[i][j] + b[i][j])\n",
    "            else:\n",
    "                print('Both Matrices must contains same no of rows and columns')\n",
    "    else:\n",
    "        print('both Matrices must contains sme no of rows  and columns')\n",
    "    print(f' output : {out_matrix}')\n",
    "    \n",
    "addMatrices([[1,2,3],[4,5,6],[7,8,9]],[[9,8,7],[6,5,4],[3,2,1]])\n",
    "addMatrices([[2,3,5],[1,1,1],[2,2,2]],[[4,3,5],[1,2,3],[3,2,1]])"
   ]
  },
  {
   "cell_type": "markdown",
   "id": "ada1bbd7",
   "metadata": {},
   "source": [
    "# 2. Write a Python Program to Multiply Two Matrices?"
   ]
  },
  {
   "cell_type": "code",
   "execution_count": 6,
   "id": "c0ac4cf0",
   "metadata": {},
   "outputs": [
    {
     "name": "stdout",
     "output_type": "stream",
     "text": [
      "[[14, 32, 50], [32, 77, 122], [50, 122, 194]]\n",
      "Matrix Multiplication is Not possible\n"
     ]
    }
   ],
   "source": [
    "a = [[1,2,3],[4,5,6],[7,8,9]]\n",
    "b = [[1,4,7],[2,5,8],[3,6,9]]\n",
    "c= [[1,2,3],[4,5,6]]\n",
    "d= [[4,5,6]]\n",
    "\n",
    "def multiply_matrices(a,b):\n",
    "    output=[]\n",
    "    if len(a[0])== len(b):\n",
    "        for i in range(len(a[0])):\n",
    "            output.append([0 for i in range(len(b[0]))])\n",
    "        for j in range(len(b[0])):\n",
    "            for k in range(len(b[0])):\n",
    "                for l in range(len(b)):\n",
    "                    output[j][k]+= a[j][l]*b[l][k]\n",
    "        print(output)\n",
    "    else:\n",
    "        print('Matrix Multiplication is Not possible')\n",
    "        \n",
    "    \n",
    "multiply_matrices(a,b)   \n",
    "multiply_matrices(c,d)"
   ]
  },
  {
   "cell_type": "markdown",
   "id": "27236722",
   "metadata": {},
   "source": [
    "# 3. Write a Python Program to Transpose a Matrix?"
   ]
  },
  {
   "cell_type": "code",
   "execution_count": 10,
   "id": "e28347bb",
   "metadata": {},
   "outputs": [
    {
     "name": "stdout",
     "output_type": "stream",
     "text": [
      "[[1, 2, 3], [4, 5, 6], [7, 8, 9]] -> [[1, 4, 7], [2, 5, 8], [3, 6, 9]]\n",
      "[[1, 2], [4, 5], [7, 8]] -> [[1, 4, 7], [2, 5, 8]]\n"
     ]
    }
   ],
   "source": [
    "a = [[1,2,3],[4,5,6],[7,8,9]]\n",
    "b = [[1,2],[4,5],[7,8]]\n",
    "c = [[1,2,3],[4,5,6]]\n",
    "\n",
    "def genTranspose(in_matrix):\n",
    "    out_matrix=[]\n",
    "    for i in range(len(in_matrix[0])):\n",
    "        out_matrix.append([0 for i in range(len(in_matrix))])\n",
    "    for j in range(len(in_matrix)):\n",
    "        for k in range(len(in_matrix[i])):\n",
    "            out_matrix[k][j]= in_matrix[j][k]\n",
    "    print(f'{in_matrix} -> {out_matrix}')\n",
    "       \n",
    "        \n",
    "genTranspose(a)\n",
    "genTranspose(b)\n"
   ]
  },
  {
   "cell_type": "markdown",
   "id": "b51aba3c",
   "metadata": {},
   "source": [
    "# 4. Write a Python Program to Sort Words in Alphabetic Order?"
   ]
  },
  {
   "cell_type": "code",
   "execution_count": 19,
   "id": "7f786f9d",
   "metadata": {},
   "outputs": [
    {
     "name": "stdout",
     "output_type": "stream",
     "text": [
      "enter the string : the quick brown fox jumps over the lazy dog\n",
      "Brown Dog Fox Jumps Lazy Over Quick The The\n"
     ]
    }
   ],
   "source": [
    "def sortstring():\n",
    "    in_str = input(\"enter the string : \").title()\n",
    "    sorted_list = sorted(in_str.split(' '))\n",
    "    print(' '.join(sorted_list))\n",
    "    \n",
    "sortstring()"
   ]
  },
  {
   "cell_type": "markdown",
   "id": "25982b63",
   "metadata": {},
   "source": [
    "# 5. Write a Python Program to Remove Punctuation From a String?"
   ]
  },
  {
   "cell_type": "code",
   "execution_count": 22,
   "id": "d12b50df",
   "metadata": {},
   "outputs": [
    {
     "name": "stdout",
     "output_type": "stream",
     "text": [
      "Enter a String: Full St@ck D@t@ Science's / # ^\n",
      "Full Stck Dt Sciences   \n"
     ]
    }
   ],
   "source": [
    "def removePunctuatuions():\n",
    "    punctuations = '''!()-[]{};:'\"\\,<>./?@#$%^&*_~'''\n",
    "    in_string = input('Enter a String: ')\n",
    "    out_string = ''\n",
    "    for ele in in_string:\n",
    "        if ele not in punctuations:\n",
    "            out_string += ele\n",
    "    print(out_string)\n",
    "    \n",
    "removePunctuatuions()"
   ]
  },
  {
   "cell_type": "code",
   "execution_count": null,
   "id": "b8cf77aa",
   "metadata": {},
   "outputs": [],
   "source": []
  }
 ],
 "metadata": {
  "kernelspec": {
   "display_name": "Python 3 (ipykernel)",
   "language": "python",
   "name": "python3"
  },
  "language_info": {
   "codemirror_mode": {
    "name": "ipython",
    "version": 3
   },
   "file_extension": ".py",
   "mimetype": "text/x-python",
   "name": "python",
   "nbconvert_exporter": "python",
   "pygments_lexer": "ipython3",
   "version": "3.9.7"
  }
 },
 "nbformat": 4,
 "nbformat_minor": 5
}
