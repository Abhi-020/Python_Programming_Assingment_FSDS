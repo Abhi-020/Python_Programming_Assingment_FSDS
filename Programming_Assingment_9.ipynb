{
 "cells": [
  {
   "cell_type": "markdown",
   "id": "ebd0176a",
   "metadata": {},
   "source": [
    "# Programming_Assingment_9"
   ]
  },
  {
   "cell_type": "markdown",
   "id": "e80366a0",
   "metadata": {},
   "source": [
    "# 1.\tWrite a Python program to check if the given number is a Disarium Number?"
   ]
  },
  {
   "cell_type": "code",
   "execution_count": 15,
   "id": "0e0ef7c4",
   "metadata": {},
   "outputs": [
    {
     "name": "stdout",
     "output_type": "stream",
     "text": [
      "enter a number :25\n",
      "25 is not a disarium number\n",
      "enter a number :135\n",
      "135 is a disarium number\n"
     ]
    }
   ],
   "source": [
    "def checkdisarium():\n",
    "    ar = (input(\"enter a number :\"))\n",
    "    sum= 0\n",
    "    for i in range(len(ar)):\n",
    "        sum =sum + int(ar[i])**(i+1)\n",
    "    if(sum== int(ar)):\n",
    "        print(f'{ar} is a disarium number')\n",
    "    else :\n",
    "        print(f'{ar} is not a disarium number')\n",
    "            \n",
    "checkdisarium()\n",
    "checkdisarium()\n",
    "\n"
   ]
  },
  {
   "cell_type": "markdown",
   "id": "54c3c8e5",
   "metadata": {},
   "source": [
    "# 2.\tWrite a Python program to print all disarium numbers between 1 to 100?"
   ]
  },
  {
   "cell_type": "code",
   "execution_count": 23,
   "id": "fdd01063",
   "metadata": {},
   "outputs": [
    {
     "data": {
      "text/plain": [
       "[0, 1, 2, 3, 4, 5, 6, 7, 8, 9, 89]"
      ]
     },
     "execution_count": 23,
     "metadata": {},
     "output_type": "execute_result"
    }
   ],
   "source": [
    "def Disariumnumber(s=0,e=101):\n",
    "    output=[]\n",
    "    for i in range(s,e):\n",
    "        sum=0\n",
    "        for j in range(len(str(i))):\n",
    "            sum= sum+ int(str(i)[j])**(j+1)\n",
    "        if sum== i:\n",
    "            output.append(i)\n",
    "    return output\n",
    "    \n",
    "Disariumnumber()"
   ]
  },
  {
   "cell_type": "markdown",
   "id": "1e8c55bf",
   "metadata": {},
   "source": [
    "# 3.\tWrite a Python program to check if the given number is Happy Number?"
   ]
  },
  {
   "cell_type": "code",
   "execution_count": 46,
   "id": "c8b98638",
   "metadata": {},
   "outputs": [
    {
     "name": "stdout",
     "output_type": "stream",
     "text": [
      "enter the number :7\n",
      "7 is a Happy Number\n",
      "enter the number :20\n",
      "20 is not Happy number\n"
     ]
    }
   ],
   "source": [
    "def checkhappy():\n",
    "    num = input(\"enter the number :\")\n",
    "    num_dup = num\n",
    "    trackNumber= set()\n",
    "    while True:\n",
    "        if num != '1' and str(num) not in trackNumber:\n",
    "            trackNumber.add(num)\n",
    "            sum=0\n",
    "            for i in range(len(num)):\n",
    "                sum = sum+ int(num[i])**2\n",
    "            num= str(sum)\n",
    "        elif str(num) in trackNumber:\n",
    "            print(f'{num_dup} is not Happy number')\n",
    "            break\n",
    "        else:\n",
    "            print(f'{num_dup} is a Happy Number')\n",
    "            break\n",
    "            \n",
    "            \n",
    "checkhappy()\n",
    "checkhappy()"
   ]
  },
  {
   "cell_type": "markdown",
   "id": "f329317d",
   "metadata": {},
   "source": [
    "# 4.\tWrite a Python program to print all happy numbers between 1 and 100?"
   ]
  },
  {
   "cell_type": "code",
   "execution_count": 56,
   "id": "a45864cb",
   "metadata": {},
   "outputs": [
    {
     "name": "stdout",
     "output_type": "stream",
     "text": [
      "[1, 7, 10, 13, 19, 23, 28, 31, 32, 44, 49, 68, 70, 79, 82, 86, 91, 94, 97, 100]\n"
     ]
    }
   ],
   "source": [
    "def Happynumber(s=0,e=101):\n",
    "    output=[]\n",
    "    for i in range(s,e):\n",
    "        i=str(i)\n",
    "        duplicate = i\n",
    "        tracknumber = set()\n",
    "        while True:\n",
    "            if i !='1' and str(i) not in tracknumber:\n",
    "                tracknumber.add(i)\n",
    "                sum=0\n",
    "                for j in range(len(i)):\n",
    "                    sum=sum + int(i[j])**2\n",
    "                i= str(sum)\n",
    "            elif str(i) in tracknumber:\n",
    "                break\n",
    "            else:\n",
    "                output.append(int(duplicate))\n",
    "                break\n",
    "    print(output)\n",
    "\n",
    "Happynumber()"
   ]
  },
  {
   "cell_type": "markdown",
   "id": "62541d41",
   "metadata": {},
   "source": [
    "# 5.\tWrite a Python program to determine whether the given number is a Harshad Number?"
   ]
  },
  {
   "cell_type": "code",
   "execution_count": 109,
   "id": "104c8b78",
   "metadata": {},
   "outputs": [
    {
     "name": "stdout",
     "output_type": "stream",
     "text": [
      "enter a number: 156\n",
      "156 is a Harshad number\n",
      "enter a number: 31\n",
      "31 is not harshad number\n"
     ]
    }
   ],
   "source": [
    "def checkHarshad():\n",
    "    num = input(\"enter a number: \")\n",
    "    sum=0\n",
    "    for i in range(len(num)):\n",
    "        sum= sum+ int(num[i])\n",
    "    if int(num)%sum == 0:\n",
    "        print(f'{num} is a Harshad number')\n",
    "    else:\n",
    "        print(f'{num} is not harshad number')\n",
    "            \n",
    "            \n",
    "checkHarshad() \n",
    "checkHarshad()\n",
    "            \n",
    "        "
   ]
  },
  {
   "cell_type": "markdown",
   "id": "59463809",
   "metadata": {},
   "source": [
    "# 6.\tWrite a Python program to print all pronic numbers between 1 and 100?"
   ]
  },
  {
   "cell_type": "code",
   "execution_count": 122,
   "id": "7f461894",
   "metadata": {},
   "outputs": [
    {
     "name": "stdout",
     "output_type": "stream",
     "text": [
      "Pronic numbers between 1 and 101 are [2, 6, 12, 20, 30, 42, 56, 72, 90]\n"
     ]
    }
   ],
   "source": [
    "def PronicNumbers(s=1,e=101):\n",
    "    output=[]\n",
    "    for num in range(s,e):\n",
    "        f=0\n",
    "        for i in range(num):\n",
    "            if i *(i+1)== num :\n",
    "                f=1\n",
    "                output.append(num)\n",
    "                break\n",
    "    print(f'Pronic numbers between {s} and {e} are {output}')\n",
    "\n",
    "PronicNumbers()"
   ]
  },
  {
   "cell_type": "code",
   "execution_count": null,
   "id": "b7b249d1",
   "metadata": {},
   "outputs": [],
   "source": []
  },
  {
   "cell_type": "code",
   "execution_count": null,
   "id": "b12d80e1",
   "metadata": {},
   "outputs": [],
   "source": []
  },
  {
   "cell_type": "code",
   "execution_count": null,
   "id": "ba0e127c",
   "metadata": {},
   "outputs": [],
   "source": []
  },
  {
   "cell_type": "code",
   "execution_count": null,
   "id": "0ab2cf44",
   "metadata": {},
   "outputs": [],
   "source": []
  },
  {
   "cell_type": "code",
   "execution_count": null,
   "id": "b2ac2c98",
   "metadata": {},
   "outputs": [],
   "source": []
  },
  {
   "cell_type": "code",
   "execution_count": null,
   "id": "0852dc03",
   "metadata": {},
   "outputs": [],
   "source": []
  }
 ],
 "metadata": {
  "kernelspec": {
   "display_name": "Python 3 (ipykernel)",
   "language": "python",
   "name": "python3"
  },
  "language_info": {
   "codemirror_mode": {
    "name": "ipython",
    "version": 3
   },
   "file_extension": ".py",
   "mimetype": "text/x-python",
   "name": "python",
   "nbconvert_exporter": "python",
   "pygments_lexer": "ipython3",
   "version": "3.9.7"
  }
 },
 "nbformat": 4,
 "nbformat_minor": 5
}
