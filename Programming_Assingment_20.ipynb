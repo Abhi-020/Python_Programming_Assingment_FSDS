{
 "cells": [
  {
   "cell_type": "markdown",
   "id": "7e25c4bc",
   "metadata": {},
   "source": [
    "# Programming_Assingment_20"
   ]
  },
  {
   "cell_type": "markdown",
   "id": "187f34b0",
   "metadata": {},
   "source": [
    "# Question1:Create a function that takes a list of strings and integers, and filters out the list so that it\n",
    "returns a list of integers only.\n",
    "Examples\n",
    "filter_list([1, 2, 3, &quot;a&quot;, &quot;b&quot;, 4]) ➞ [1, 2, 3, 4]\n",
    "filter_list([&quot;A&quot;, 0, &quot;Edabit&quot;, 1729, &quot;Python&quot;, &quot;1729&quot;]) ➞ [0, 1729]\n",
    "filter_list([&quot;Nothing&quot;, &quot;here&quot;]) ➞ []"
   ]
  },
  {
   "cell_type": "code",
   "execution_count": 5,
   "id": "25290563",
   "metadata": {},
   "outputs": [
    {
     "name": "stdout",
     "output_type": "stream",
     "text": [
      "enter the element in list : 1, 2, 3, \"a\", \"b\", 4\n",
      "output --> [1, 2, 3, 4]\n",
      "enter the element in list : \"A\", 0, \"Edabit\", 1729, \"Python\", \"1729\"\n",
      "output --> [0, 1729]\n",
      "enter the element in list : \"Nothing\", \"here\"\n",
      "output --> []\n"
     ]
    }
   ],
   "source": [
    "def FilterList():\n",
    "    in_lst = eval(input(\"enter the element in list : \"))\n",
    "    out_lst =[]\n",
    "    for i in in_lst:\n",
    "        if type(i)== int:\n",
    "            out_lst.append(i)\n",
    "    print(f'output --> {out_lst}')\n",
    "    \n",
    "FilterList()\n",
    "FilterList()\n",
    "FilterList()\n"
   ]
  },
  {
   "cell_type": "markdown",
   "id": "12d92587",
   "metadata": {},
   "source": [
    "# Question2 Given a list of numbers, create a function which returns the list but with each element index in the list added to itself. This means you add 0 to the number at index 0, add 1 to the number at index 1, etc...\n",
    "Examples\n",
    "add_indexes([0, 0, 0, 0, 0]) ➞ [0, 1, 2, 3, 4]\n",
    "add_indexes([1, 2, 3, 4, 5]) ➞ [1, 3, 5, 7, 9]\n",
    "add_indexes([5, 4, 3, 2, 1]) ➞ [5, 5, 5, 5, 5]"
   ]
  },
  {
   "cell_type": "code",
   "execution_count": 1,
   "id": "7ac5bf7e",
   "metadata": {},
   "outputs": [
    {
     "name": "stdout",
     "output_type": "stream",
     "text": [
      "enter the element in list : 0,0,0,0,0\n",
      "(0, 0, 0, 0, 0) --> [0, 1, 2, 3, 4]\n",
      "enter the element in list : 1,2,3,4,5\n",
      "(1, 2, 3, 4, 5) --> [1, 3, 5, 7, 9]\n"
     ]
    }
   ],
   "source": [
    "def AddIndex():\n",
    "    in_list= eval(input(\"enter the element in list : \"))\n",
    "    out_list =[]\n",
    "    for i in range(len(in_list)):\n",
    "        out_list.append(i + in_list[i])\n",
    "    print(f'{in_list} --> {out_list}')\n",
    "    \n",
    "AddIndex()\n",
    "AddIndex()"
   ]
  },
  {
   "cell_type": "markdown",
   "id": "f12962d3",
   "metadata": {},
   "source": [
    "# Question3 Create a function that takes the height and radius of a cone as arguments and returns the volume of the cone rounded to the nearest hundredth. See the resources tab for the formula.\n",
    "Examples\n",
    "cone_volume(3, 2) ➞ 12.57\n",
    "cone_volume(15, 6) ➞ 565.49\n",
    "cone_volume(18, 0) ➞ 0"
   ]
  },
  {
   "cell_type": "code",
   "execution_count": 7,
   "id": "97abb893",
   "metadata": {},
   "outputs": [
    {
     "name": "stdout",
     "output_type": "stream",
     "text": [
      "volume of cone is 12.57\n",
      "volume of cone is 565.49\n",
      "volume of cone is 0.00\n"
     ]
    }
   ],
   "source": [
    "import math\n",
    "\n",
    "def conevol(height, radius):\n",
    "    vol= (1/3)*(math.pi)*radius*radius*height\n",
    "    print(f'volume of cone is {vol:.2f}')\n",
    "          \n",
    "conevol(3,2)\n",
    "conevol(15,6)\n",
    "conevol(18,0)\n",
    "    "
   ]
  },
  {
   "cell_type": "markdown",
   "id": "7c281041",
   "metadata": {},
   "source": [
    "# Question4\n",
    "This Triangular Number Sequence is generated from a pattern of dots that form a triangle.\n",
    "The first 5 numbers of the sequence, or dots, are:\n",
    "1, 3, 6, 10, 15\n",
    "This means that the first triangle has just one dot, the second one has three dots, the third one\n",
    "has 6 dots and so on.\n",
    "Write a function that gives the number of dots with its corresponding triangle number of the\n",
    "sequence.\n",
    "Examples\n",
    "triangle(1) ➞ 1\n",
    "triangle(6) ➞ 21\n",
    "triangle(215) ➞ 23220"
   ]
  },
  {
   "cell_type": "code",
   "execution_count": 10,
   "id": "e6d880f8",
   "metadata": {},
   "outputs": [
    {
     "name": "stdout",
     "output_type": "stream",
     "text": [
      "Output --> 1\n",
      "Output --> 21\n",
      "Output --> 23220\n"
     ]
    }
   ],
   "source": [
    "def Triangle(num):\n",
    "    print(f'Output --> {int((num)*((num+1)/2))}')\n",
    "    \n",
    "Triangle(1)\n",
    "Triangle(6)\n",
    "Triangle(215)"
   ]
  },
  {
   "cell_type": "markdown",
   "id": "08f267be",
   "metadata": {},
   "source": [
    "# Question5 Create a function that takes a list of numbers between 1 and 10 (excluding one number) and returns the missing number.\n",
    "Examples\n",
    "missing_num([1, 2, 3, 4, 6, 7, 8, 9, 10]) ➞ 5\n",
    "missing_num([7, 2, 3, 6, 5, 9, 1, 4, 8]) ➞ 10\n",
    "missing_num([10, 5, 1, 2, 4, 6, 8, 3, 9]) ➞ 7"
   ]
  },
  {
   "cell_type": "code",
   "execution_count": 14,
   "id": "cbb7892c",
   "metadata": {},
   "outputs": [
    {
     "name": "stdout",
     "output_type": "stream",
     "text": [
      "[1, 2, 3, 4, 6, 7, 8, 9, 10] --> 5\n",
      "[7, 2, 3, 6, 5, 9, 1, 4, 8] --> 10\n",
      "[10, 5, 1, 2, 4, 6, 8, 3, 9] --> 7\n"
     ]
    }
   ],
   "source": [
    "def missing_num(in_list):\n",
    "    for i in range(1,11):\n",
    "        if i not in in_list:\n",
    "            print(f'{in_list} --> {i}')\n",
    "            \n",
    "            \n",
    "missing_num([1,2,3,4,6,7,8,9,10])\n",
    "missing_num([7, 2, 3, 6, 5, 9, 1, 4, 8])\n",
    "missing_num([10, 5, 1, 2, 4, 6, 8, 3, 9])"
   ]
  },
  {
   "cell_type": "code",
   "execution_count": null,
   "id": "d11d2b9a",
   "metadata": {},
   "outputs": [],
   "source": []
  }
 ],
 "metadata": {
  "kernelspec": {
   "display_name": "Python 3 (ipykernel)",
   "language": "python",
   "name": "python3"
  },
  "language_info": {
   "codemirror_mode": {
    "name": "ipython",
    "version": 3
   },
   "file_extension": ".py",
   "mimetype": "text/x-python",
   "name": "python",
   "nbconvert_exporter": "python",
   "pygments_lexer": "ipython3",
   "version": "3.9.7"
  }
 },
 "nbformat": 4,
 "nbformat_minor": 5
}
