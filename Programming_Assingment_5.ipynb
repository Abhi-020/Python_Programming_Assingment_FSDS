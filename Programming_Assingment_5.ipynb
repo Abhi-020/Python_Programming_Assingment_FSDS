{
 "cells": [
  {
   "cell_type": "markdown",
   "id": "99cea2dd",
   "metadata": {},
   "source": [
    "# Programming_Assingment_5"
   ]
  },
  {
   "cell_type": "markdown",
   "id": "6ba36056",
   "metadata": {},
   "source": [
    "# 1. Write a Python Program to Find LCM?"
   ]
  },
  {
   "cell_type": "code",
   "execution_count": 6,
   "id": "8afd7fa1",
   "metadata": {},
   "outputs": [
    {
     "name": "stdout",
     "output_type": "stream",
     "text": [
      "enter the first no. n1 = 12\n",
      "enter the first no. n2 = 20\n",
      "least common multiple is : 60.0\n"
     ]
    }
   ],
   "source": [
    "import math\n",
    "def get_lcm():\n",
    "    n1= int(input(\"enter the first no. n1 = \"))\n",
    "    n2= int(input(\"enter the first no. n2 = \"))\n",
    "    gcd = math.gcd(n1,n2)\n",
    "    \n",
    "    result =(n1*n2)/gcd\n",
    "    print(\"least common multiple is :\" , result)\n",
    "get_lcm()"
   ]
  },
  {
   "cell_type": "markdown",
   "id": "1a478da2",
   "metadata": {},
   "source": [
    "# 2. Write a Python Program to Find HCF?"
   ]
  },
  {
   "cell_type": "code",
   "execution_count": 8,
   "id": "c295fbd1",
   "metadata": {},
   "outputs": [
    {
     "name": "stdout",
     "output_type": "stream",
     "text": [
      "enter the first no. n1 = 10\n",
      "enter the first no. n2 = 25\n",
      "The HCF  of 10,25 is 5\n"
     ]
    }
   ],
   "source": [
    "def get_hcf(x,y):\n",
    "    if x>y:\n",
    "        smaller = y\n",
    "    else:\n",
    "        smaller = x\n",
    "    for i in range(1,smaller+1):\n",
    "        if(x%i==0) and (y%i==0):\n",
    "            hcf= i\n",
    "    print(f'The HCF  of {x},{y} is {hcf}')\n",
    "    \n",
    "n1= int(input(\"enter the first no. n1 = \"))\n",
    "n2= int(input(\"enter the first no. n2 = \"))\n",
    "get_hcf(n1,n2)"
   ]
  },
  {
   "cell_type": "markdown",
   "id": "092af830",
   "metadata": {},
   "source": [
    "# 3. Write a Python Program to Convert Decimal to Binary, Octal and Hexadecimal?"
   ]
  },
  {
   "cell_type": "code",
   "execution_count": 14,
   "id": "ffaa10ce",
   "metadata": {},
   "outputs": [
    {
     "name": "stdout",
     "output_type": "stream",
     "text": [
      "enter the number : 20045\n",
      "Binary number for 20045 is 0b100111001001101\n",
      "Octal number for 20045 is 0o47115\n",
      "Hexadecimal number for 20045 is 0x4e4d\n"
     ]
    }
   ],
   "source": [
    "def decimaltoBOH():\n",
    "    num= int(input(\"enter the number : \"))\n",
    "    print(f'Binary number for {num} is {bin(num)}')\n",
    "    print(f'Octal number for {num} is {oct(num)}')\n",
    "    print(f'Hexadecimal number for {num} is {hex(num)}')\n",
    "decimaltoBOH()"
   ]
  },
  {
   "cell_type": "markdown",
   "id": "cf74457b",
   "metadata": {},
   "source": [
    "# 4. Write a Python Program To Find ASCII value of a character?"
   ]
  },
  {
   "cell_type": "code",
   "execution_count": 22,
   "id": "2387e195",
   "metadata": {},
   "outputs": [
    {
     "name": "stdout",
     "output_type": "stream",
     "text": [
      "enter the character :abc\n",
      "enter a single character \n",
      "enter the character :a\n",
      "ASCII character for a is 97\n"
     ]
    }
   ],
   "source": [
    "def get_ASCII():\n",
    "    char = input(\"enter the character :\")\n",
    "    if len(char) > 1:\n",
    "        print(\"enter a single character \")\n",
    "    else:\n",
    "        print(f'ASCII character for {char} is {ord(char)}')\n",
    "\n",
    "for i in range(2):\n",
    "    get_ASCII()"
   ]
  },
  {
   "cell_type": "markdown",
   "id": "3d9ad1e4",
   "metadata": {},
   "source": [
    "# 5. Write a Python Program to Make a Simple Calculator with 4 basic mathematical operations?"
   ]
  },
  {
   "cell_type": "code",
   "execution_count": 36,
   "id": "533f017d",
   "metadata": {},
   "outputs": [
    {
     "name": "stdout",
     "output_type": "stream",
     "text": [
      "Select a Arithmetic Operation:         \n",
      "1.Addition(+)        \n",
      "2.Subtraction(-)        \n",
      "3.Multiplication(*)        \n",
      "4.Division(/)        \n",
      "5.Stop(0)\n",
      "\n",
      "Enter a arithmetic operation -> +\n",
      "\n",
      "Enter 1st Number: 5\n",
      "Enter 2nd Number: 6\n",
      "5+6 =11\n",
      "\n",
      "Enter a arithmetic operation -> -\n",
      "\n",
      "Enter 1st Number: 10\n",
      "Enter 2nd Number: 8\n",
      "10-8 =2\n",
      "\n",
      "Enter a arithmetic operation -> *\n",
      "\n",
      "Enter 1st Number: 5\n",
      "Enter 2nd Number: 6\n",
      "5*6 =30\n",
      "\n",
      "Enter a arithmetic operation -> /\n",
      "\n",
      "Enter 1st Number: 5\n",
      "Enter 2nd Number: 2\n",
      "5/2 =2.5\n",
      "\n",
      "Enter a arithmetic operation -> 5\n",
      "Please enter a valid operator\n",
      "Enter a arithmetic operation -> 0\n",
      "Program Stopped successfully\n"
     ]
    }
   ],
   "source": [
    "import operator\n",
    "def calculator():\n",
    "    import operator\n",
    "    op= { \"+\": operator.add, \"-\": operator.sub, \"*\":operator.mul, \"/\":operator.truediv }\n",
    "    \n",
    "    print('Select a Arithmetic Operation: \\\n",
    "        \\n1.Addition(+)\\\n",
    "        \\n2.Subtraction(-)\\\n",
    "        \\n3.Multiplication(*)\\\n",
    "        \\n4.Division(/)\\\n",
    "        \\n5.Stop(0)\\n')\n",
    "    \n",
    "    while True:\n",
    "        operator = input('Enter a arithmetic operation -> ')\n",
    "        if operator == '0':\n",
    "            print(\"Program Stopped successfully\")\n",
    "            break\n",
    "        elif operator not in ['+','-','*','/']:\n",
    "            print(\"Please enter a valid operator\")\n",
    "        else:\n",
    "            n1 = int(input('\\nEnter 1st Number: '))\n",
    "            n2 = int(input('Enter 2nd Number: '))\n",
    "            print(f'{n1}{operator}{n2} ={op[operator](n1,n2)}\\n' )\n",
    "        \n",
    "calculator()"
   ]
  },
  {
   "cell_type": "code",
   "execution_count": null,
   "id": "363d479c",
   "metadata": {},
   "outputs": [],
   "source": []
  },
  {
   "cell_type": "code",
   "execution_count": null,
   "id": "2d8f2160",
   "metadata": {},
   "outputs": [],
   "source": []
  }
 ],
 "metadata": {
  "kernelspec": {
   "display_name": "Python 3 (ipykernel)",
   "language": "python",
   "name": "python3"
  },
  "language_info": {
   "codemirror_mode": {
    "name": "ipython",
    "version": 3
   },
   "file_extension": ".py",
   "mimetype": "text/x-python",
   "name": "python",
   "nbconvert_exporter": "python",
   "pygments_lexer": "ipython3",
   "version": "3.9.7"
  }
 },
 "nbformat": 4,
 "nbformat_minor": 5
}
