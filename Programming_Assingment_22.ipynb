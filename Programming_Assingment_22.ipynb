{
 "cells": [
  {
   "cell_type": "markdown",
   "id": "ea154d06",
   "metadata": {},
   "source": [
    "# Programming Assingment_22"
   ]
  },
  {
   "cell_type": "markdown",
   "id": "8eed4c0b",
   "metadata": {},
   "source": [
    "# Question1 Create a function that takes three parameters where:\n",
    " x is the start of the range (inclusive).\n",
    " y is the end of the range (inclusive).\n",
    " n is the divisor to be checked against.\n",
    "Return an ordered list with numbers in the range that are divisible by the third parameter n.\n",
    "Return an empty list if there are no numbers that are divisible by n.\n",
    "\n",
    "Examples\n",
    "list_operation(1, 10, 3) ➞ [3, 6, 9]\n",
    "list_operation(7, 9, 2) ➞ [8]\n",
    "list_operation(15, 20, 7) ➞ []"
   ]
  },
  {
   "cell_type": "code",
   "execution_count": 3,
   "id": "35ff4d9a",
   "metadata": {},
   "outputs": [
    {
     "name": "stdout",
     "output_type": "stream",
     "text": [
      "list_Operation (1,10,3) --> [3, 6, 9]\n",
      "list_Operation (7,9,2) --> [8]\n",
      "list_Operation (15,20,7) --> []\n"
     ]
    }
   ],
   "source": [
    "def list_operation(x,y,n):\n",
    "    out_list=[]\n",
    "    for i in range(x,y+1):\n",
    "        if i%n == 0:\n",
    "            out_list.append(i)\n",
    "    print(f'list_Operation ({x},{y},{n}) --> {out_list}')\n",
    "    \n",
    "\n",
    "list_operation(1,10,3)\n",
    "list_operation(7,9,2)\n",
    "list_operation(15,20,7)"
   ]
  },
  {
   "cell_type": "markdown",
   "id": "ad986e45",
   "metadata": {},
   "source": [
    "# Question2\n",
    "Create a function that takes in two lists and returns True if the second list follows the first list\n",
    "by one element, and False otherwise. In other words, determine if the second list is the first\n",
    "list shifted to the right by 1.\n",
    "Examples\n",
    "simon_says([1, 2], [5, 1]) ➞ True\n",
    "simon_says([1, 2], [5, 5]) ➞ False\n",
    "simon_says([1, 2, 3, 4, 5], [0, 1, 2, 3, 4]) ➞ True\n",
    "simon_says([1, 2, 3, 4, 5], [5, 5, 1, 2, 3]) ➞ False\n",
    "Notes\n",
    " Both input lists will be of the same length, and will have a minimum length of 2.\n",
    " The values of the 0-indexed element in the second list and the n-1th indexed element\n",
    "in the first list do not matter."
   ]
  },
  {
   "cell_type": "code",
   "execution_count": 5,
   "id": "2ef9ea18",
   "metadata": {},
   "outputs": [
    {
     "name": "stdout",
     "output_type": "stream",
     "text": [
      "([1, 2], [5, 1]) --> True\n",
      "([1, 2], [5, 5]) --> False\n",
      "([1, 2, 3, 4, 5], [0, 1, 2, 3, 4]) --> True\n",
      "([1, 2, 3, 4, 5], [5, 5, 1, 2, 3]) --> False\n"
     ]
    }
   ],
   "source": [
    "def simon_says(in_list_1, in_list_2):\n",
    "    if len(in_list_1)== len(in_list_1) and len(in_list_1)>=2 and len(in_list_1)>=2:\n",
    "        if(in_list_1[:-1] == in_list_2[1:]):\n",
    "            print(f'{in_list_1, in_list_2} --> {True}')\n",
    "        else:\n",
    "            print(f'{in_list_1, in_list_2} --> {False}')\n",
    "            \n",
    "simon_says([1, 2], [5, 1])\n",
    "simon_says([1, 2], [5, 5])\n",
    "simon_says([1, 2, 3, 4, 5], [0, 1, 2, 3, 4])\n",
    "simon_says([1, 2, 3, 4, 5], [5, 5, 1, 2, 3])"
   ]
  },
  {
   "cell_type": "markdown",
   "id": "c27dba81",
   "metadata": {},
   "source": [
    "# Question3 A group of friends have decided to start a secret society. The name will be the first letter of each of their names, sorted in alphabetical order.\n",
    "Create a function that takes in a list of names and returns the name of the secret society.\n",
    "Examples\n",
    "society_name([&quot;Adam&quot;, &quot;Sarah&quot;, &quot;Malcolm&quot;]) ➞ &quot;AMS&quot;\n",
    "society_name([&quot;Harry&quot;, &quot;Newt&quot;, &quot;Luna&quot;, &quot;Cho&quot;]) ➞ &quot;CHLN&quot;\n",
    "society_name([&quot;Phoebe&quot;, &quot;Chandler&quot;, &quot;Rachel&quot;, &quot;Ross&quot;, &quot;Monica&quot;, &quot;Joey&quot;])"
   ]
  },
  {
   "cell_type": "code",
   "execution_count": 7,
   "id": "9b97f6ba",
   "metadata": {},
   "outputs": [
    {
     "name": "stdout",
     "output_type": "stream",
     "text": [
      "['Adam', 'Sarah', 'Malcolm'] --> AMS\n",
      "['Harry', 'Newt', 'Luna', 'Cho'] --> CHLN\n",
      "['Phoebe', 'Chandler', 'Rachel', 'Ross', 'Monica', 'Joey'] --> CJMPRR\n"
     ]
    }
   ],
   "source": [
    "def societyName(in_list):\n",
    "    out_str =[]\n",
    "    for i in in_list:\n",
    "        out_str.append(i[0])\n",
    "    output=''.join(sorted(out_str))\n",
    "    print(f'{in_list} --> {output}')\n",
    "    \n",
    "\n",
    "societyName([\"Adam\", \"Sarah\", \"Malcolm\"])\n",
    "societyName([\"Harry\", \"Newt\", \"Luna\", \"Cho\"])\n",
    "societyName([\"Phoebe\", \"Chandler\", \"Rachel\", \"Ross\", \"Monica\", \"Joey\"])"
   ]
  },
  {
   "cell_type": "markdown",
   "id": "4fcae0ac",
   "metadata": {},
   "source": [
    "# Question4 An isogram is a word that has no duplicate letters. Create a function that takes a string and returns either True or False depending on whether or not it&#39;s an &quot;isogram&quot;.\n",
    "Examples\n",
    "is_isogram(&quot;Algorism&quot;) ➞ True\n",
    "is_isogram(&quot;PasSword&quot;) ➞ False\n",
    "# Not case sensitive.\n",
    "is_isogram(&quot;Consecutive&quot;) ➞ False"
   ]
  },
  {
   "cell_type": "code",
   "execution_count": 9,
   "id": "7e8da37b",
   "metadata": {},
   "outputs": [
    {
     "name": "stdout",
     "output_type": "stream",
     "text": [
      "Algorism --> True\n",
      "PasSword --> False\n",
      "Consecutive --> False\n"
     ]
    }
   ],
   "source": [
    "def is_isogram(in_str):\n",
    "    lower_in_str = in_str.lower()\n",
    "    if len(lower_in_str)== len(set(lower_in_str)):\n",
    "        print(f'{in_str} --> {True}')\n",
    "    else:\n",
    "        print(f'{in_str} --> {False}')\n",
    "    \n",
    "is_isogram(\"Algorism\")\n",
    "is_isogram(\"PasSword\")\n",
    "is_isogram(\"Consecutive\")"
   ]
  },
  {
   "cell_type": "markdown",
   "id": "421ee05e",
   "metadata": {},
   "source": [
    "# Question5 :Create a function that takes a string and returns True or False, depending on whether the characters are in order or not.\n",
    "Examples\n",
    "is_in_order(&quot;abc&quot;) ➞ True\n",
    "is_in_order(&quot;edabit&quot;) ➞ False\n",
    "is_in_order(&quot;123&quot;) ➞ True\n",
    "is_in_order(&quot;xyzz&quot;) ➞ True"
   ]
  },
  {
   "cell_type": "code",
   "execution_count": 11,
   "id": "241d7746",
   "metadata": {},
   "outputs": [
    {
     "name": "stdout",
     "output_type": "stream",
     "text": [
      "abc --> True\n",
      "edabit --> False\n",
      "123 --> True\n",
      "xyzz --> True\n"
     ]
    }
   ],
   "source": [
    "def is_in_order(in_str):\n",
    "    in_str_sorted= ''.join(sorted(in_str))\n",
    "    if in_str == in_str_sorted:\n",
    "        print(f'{in_str} --> {True}')\n",
    "    else:\n",
    "        print(f'{in_str} --> {False}')\n",
    "        \n",
    "is_in_order(\"abc\")\n",
    "is_in_order(\"edabit\")\n",
    "is_in_order(\"123\")\n",
    "is_in_order(\"xyzz\")"
   ]
  },
  {
   "cell_type": "code",
   "execution_count": null,
   "id": "01993540",
   "metadata": {},
   "outputs": [],
   "source": []
  }
 ],
 "metadata": {
  "kernelspec": {
   "display_name": "Python 3 (ipykernel)",
   "language": "python",
   "name": "python3"
  },
  "language_info": {
   "codemirror_mode": {
    "name": "ipython",
    "version": 3
   },
   "file_extension": ".py",
   "mimetype": "text/x-python",
   "name": "python",
   "nbconvert_exporter": "python",
   "pygments_lexer": "ipython3",
   "version": "3.9.7"
  }
 },
 "nbformat": 4,
 "nbformat_minor": 5
}
