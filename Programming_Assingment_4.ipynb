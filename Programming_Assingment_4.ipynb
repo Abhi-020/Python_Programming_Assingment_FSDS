{
 "cells": [
  {
   "cell_type": "markdown",
   "id": "6ca528c8",
   "metadata": {},
   "source": [
    "# Programming _Assingment_4"
   ]
  },
  {
   "cell_type": "markdown",
   "id": "ad79a455",
   "metadata": {},
   "source": [
    "# 1.\tWrite a Python Program to Find the Factorial of a Number?"
   ]
  },
  {
   "cell_type": "code",
   "execution_count": 5,
   "id": "83a1893f",
   "metadata": {},
   "outputs": [
    {
     "name": "stdout",
     "output_type": "stream",
     "text": [
      "enter the number :5\n",
      "the factorial of 5  is 120\n"
     ]
    }
   ],
   "source": [
    "def fact(num):\n",
    "    if (num<1):\n",
    "        return 1\n",
    "    else:\n",
    "        return num*fact(num-1)\n",
    "\n",
    "num = int(input(\"enter the number :\"))\n",
    "factorial = fact(num)\n",
    "print(f'the factorial of {num}  is {factorial}')"
   ]
  },
  {
   "cell_type": "markdown",
   "id": "ca0cb9c9",
   "metadata": {},
   "source": [
    "# 2.\tWrite a Python Program to Display the multiplication Table?"
   ]
  },
  {
   "cell_type": "code",
   "execution_count": 8,
   "id": "d24cc817",
   "metadata": {},
   "outputs": [
    {
     "name": "stdout",
     "output_type": "stream",
     "text": [
      "enter the number :5\n",
      "enter the no. of entries :5\n",
      "5 X 1 = 5\n",
      "5 X 2 = 10\n",
      "5 X 3 = 15\n",
      "5 X 4 = 20\n",
      "5 X 5 = 25\n"
     ]
    }
   ],
   "source": [
    "def gentable(a, entries):\n",
    "    for i in range(1, entries+1):\n",
    "        print(f'{a} X {i} = {a*i}')\n",
    "        \n",
    "num= int(input(\"enter the number :\"))\n",
    "val = int(input(\"enter the no. of entries :\"))\n",
    "gentable(num,val)\n",
    "    "
   ]
  },
  {
   "cell_type": "markdown",
   "id": "56c9cfec",
   "metadata": {},
   "source": [
    "# 3.\tWrite a Python Program to Print the Fibonacci sequence?"
   ]
  },
  {
   "cell_type": "code",
   "execution_count": 10,
   "id": "54375605",
   "metadata": {},
   "outputs": [
    {
     "name": "stdout",
     "output_type": "stream",
     "text": [
      "how many terms 5\n",
      "fibonacci sequence: \n",
      "0\n",
      "1\n",
      "1\n",
      "2\n",
      "3\n"
     ]
    }
   ],
   "source": [
    "terms =int(input(\"how many terms \"))\n",
    "a=0\n",
    "b=1\n",
    "c=0\n",
    "if terms <= 0:\n",
    "    print (\"please enter a positive integer\")\n",
    "elif terms ==1:\n",
    "    print(\"series upto\", terms, \" :\")\n",
    "    print(a)\n",
    "else:\n",
    "    print(\"fibonacci sequence: \")\n",
    "    while c < terms:\n",
    "        print(a)\n",
    "        nth = a+b\n",
    "        a=b\n",
    "        b= nth\n",
    "        c +=1"
   ]
  },
  {
   "cell_type": "markdown",
   "id": "43618c93",
   "metadata": {},
   "source": [
    "# 4.\tWrite a Python Program to Check Armstrong Number?"
   ]
  },
  {
   "cell_type": "code",
   "execution_count": 31,
   "id": "c54acd62",
   "metadata": {},
   "outputs": [
    {
     "name": "stdout",
     "output_type": "stream",
     "text": [
      "enter a number :153\n",
      "153 is a Armstrong number\n",
      "enter a number :140\n",
      "140 is Not Armstrong number\n"
     ]
    }
   ],
   "source": [
    "def checkArmstrong():\n",
    "    t = input(\"enter a number :\")\n",
    "    c=0\n",
    "    for i in range(len(t)):\n",
    "        c= c+ pow(int(t[i]),3)\n",
    "    if c== int(t):\n",
    "            print(f'{t} is a Armstrong number')\n",
    "    else:\n",
    "            print(f'{t} is Not Armstrong number')\n",
    "\n",
    "for x in range(2):\n",
    "    checkArmstrong()"
   ]
  },
  {
   "cell_type": "markdown",
   "id": "4d3c8f50",
   "metadata": {},
   "source": [
    "# 5.\tWrite a Python Program to Find Armstrong Number in an Interval?"
   ]
  },
  {
   "cell_type": "code",
   "execution_count": 39,
   "id": "804b73c5",
   "metadata": {},
   "outputs": [
    {
     "name": "stdout",
     "output_type": "stream",
     "text": [
      "enter the start of intervl :1\n",
      "enter the end of intervl :10000\n",
      " Armstrong number between 1 and 10000 are [1, 153, 370, 371, 407]\n"
     ]
    }
   ],
   "source": [
    "def checkArmstrong(t,l):\n",
    "    c=0\n",
    "    for i in range(len(t)):\n",
    "        c= c+ pow(int(t[i]),3)\n",
    "    if c == int(t):\n",
    "        l.append(int(t))\n",
    "        \n",
    "start = int(input(\"enter the start of intervl :\"))\n",
    "end = int(input(\"enter the end of intervl :\"))\n",
    "list_armstrong=[]\n",
    "\n",
    "if start> end:\n",
    "    print(\"start inertval cannot be greater than end intervl\")\n",
    "else:\n",
    "    for num in range(start, end+1):\n",
    "        checkArmstrong(str(num),list_armstrong)\n",
    "    print(f' Armstrong number between {start} and {end} are {list_armstrong}')\n",
    "        \n",
    "        "
   ]
  },
  {
   "cell_type": "markdown",
   "id": "62c85c98",
   "metadata": {},
   "source": [
    "# 6.\tWrite a Python Program to Find the Sum of Natural Numbers?"
   ]
  },
  {
   "cell_type": "code",
   "execution_count": 49,
   "id": "ae5517db",
   "metadata": {},
   "outputs": [
    {
     "name": "stdout",
     "output_type": "stream",
     "text": [
      "enter the natural number :150\n",
      "sum of natural number  11325\n"
     ]
    }
   ],
   "source": [
    "def sumnatural(num):\n",
    "    num= int(input(\"enter the natural number :\"))\n",
    "    sum=0\n",
    "    for i in range(num+1):\n",
    "        sum= sum+i\n",
    "    print(\"sum of natural number \", sum)\n",
    "    \n",
    "sumnatural(num)\n",
    "    "
   ]
  },
  {
   "cell_type": "code",
   "execution_count": null,
   "id": "cbe37046",
   "metadata": {},
   "outputs": [],
   "source": []
  },
  {
   "cell_type": "code",
   "execution_count": null,
   "id": "cebb1f76",
   "metadata": {},
   "outputs": [],
   "source": [
    "0"
   ]
  }
 ],
 "metadata": {
  "kernelspec": {
   "display_name": "Python 3 (ipykernel)",
   "language": "python",
   "name": "python3"
  },
  "language_info": {
   "codemirror_mode": {
    "name": "ipython",
    "version": 3
   },
   "file_extension": ".py",
   "mimetype": "text/x-python",
   "name": "python",
   "nbconvert_exporter": "python",
   "pygments_lexer": "ipython3",
   "version": "3.9.7"
  }
 },
 "nbformat": 4,
 "nbformat_minor": 5
}
