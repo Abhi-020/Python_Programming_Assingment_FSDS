{
 "cells": [
  {
   "cell_type": "markdown",
   "id": "6aa4aaae",
   "metadata": {},
   "source": [
    "# Programming_Assingment_16"
   ]
  },
  {
   "cell_type": "markdown",
   "id": "0d654ab0",
   "metadata": {},
   "source": [
    "# Question1. Write a function that stutters a word as if someone is struggling to read it. The first two letters are repeated twice with an ellipsis ... and space after each, and then theword is pronounced with a question mark ?.\n",
    "Examples\n",
    "stutter(&quot;incredible&quot;) ➞ &quot;in... in... incredible?&quot;\n",
    "stutter(&quot;enthusiastic&quot;) ➞ &quot;en... en... enthusiastic?&quot;\n",
    "stutter(&quot;outstanding&quot;) ➞ &quot;ou... ou... outstanding?&quot;"
   ]
  },
  {
   "cell_type": "code",
   "execution_count": 3,
   "id": "6bc1058f",
   "metadata": {},
   "outputs": [
    {
     "name": "stdout",
     "output_type": "stream",
     "text": [
      "Enter the wordincredible\n",
      "incredible--> in...in...incredible?\n",
      "Enter the wordenthusiastic\n",
      "enthusiastic--> en...en...enthusiastic?\n",
      "Enter the wordoutstanding\n",
      "outstanding--> ou...ou...outstanding?\n"
     ]
    }
   ],
   "source": [
    "def stutterWord():\n",
    "    in_str= input('Enter the word')\n",
    "    out_str= in_str.replace(in_str[0:2],((in_str[0:2]+'...')*2)+ in_str[0:2]) + '?'\n",
    "    print(f'{in_str}--> {out_str}')\n",
    "    \n",
    "for i in range(3):\n",
    "    stutterWord()"
   ]
  },
  {
   "cell_type": "markdown",
   "id": "3f7381ea",
   "metadata": {},
   "source": [
    "# Question 2.Create a function that takes an angle in radians and returns the corresponding angle in degrees rounded to one decimal place.\n",
    "Examples\n",
    "radians_to_degrees(1) ➞ 57.3\n",
    "radians_to_degrees(20) ➞ 1145.9\n",
    "radians_to_degrees(50) ➞ 2864.8"
   ]
  },
  {
   "cell_type": "code",
   "execution_count": 6,
   "id": "98a88f28",
   "metadata": {},
   "outputs": [
    {
     "name": "stdout",
     "output_type": "stream",
     "text": [
      "Enter theangle in radians: 1\n",
      "1 radian(s) --> 57.3 degrees\n",
      "Enter theangle in radians: 20\n",
      "20 radian(s) --> 1145.9 degrees\n",
      "Enter theangle in radians: 50\n",
      "50 radian(s) --> 2864.8 degrees\n"
     ]
    }
   ],
   "source": [
    "import math\n",
    "def radians_to_degrees():\n",
    "    in_num = int(input('Enter theangle in radians: '))\n",
    "    out_num = (180/math.pi)*in_num\n",
    "    print(f'{in_num} radian(s) --> {out_num:.1f} degrees')\n",
    "    \n",
    "for i in range(3):\n",
    "    radians_to_degrees()\n",
    "    \n",
    "    "
   ]
  },
  {
   "cell_type": "markdown",
   "id": "eb249592",
   "metadata": {},
   "source": [
    "# Question 3. In this challenge, establish if a given integer num is a Curzon number. If 1 plus 2 elevated to num is exactly divisible by 1 plus 2 multiplied by num, then num is a Curzon number.Given a non-negative integer num, implement a function that returns True if num is a Curzon number, or False otherwise.\n",
    "Examples\n",
    "is_curzon(5) ➞ True\n",
    "# 2 ** 5 + 1 = 33\n",
    "# 2 * 5 + 1 = 11\n",
    "# 33 is a multiple of 11"
   ]
  },
  {
   "cell_type": "code",
   "execution_count": 11,
   "id": "d557983f",
   "metadata": {},
   "outputs": [
    {
     "name": "stdout",
     "output_type": "stream",
     "text": [
      "output --> 5 is Curzon number\n",
      "outpur --> 10 is not a curzon number\n"
     ]
    }
   ],
   "source": [
    "def is_curzon(num):\n",
    "    s= (2**num) + 1\n",
    "    p= (2*num) +1\n",
    "    if s%p ==0:\n",
    "        print(f'output --> {num} is Curzon number')\n",
    "    else:\n",
    "        print(f'outpur --> {num} is not a curzon number')\n",
    "        \n",
    "is_curzon(5)\n",
    "is_curzon(10)\n"
   ]
  },
  {
   "cell_type": "markdown",
   "id": "18d10c29",
   "metadata": {},
   "source": [
    "# Question 4.Given the side length x find the area of a hexagon.\n",
    "Examples\n",
    "area_of_hexagon(1) ➞ 2.6\n",
    "area_of_hexagon(2) ➞ 10.4\n",
    "area_of_hexagon(3) ➞ 23.4"
   ]
  },
  {
   "cell_type": "code",
   "execution_count": 16,
   "id": "4d2ab17e",
   "metadata": {},
   "outputs": [
    {
     "name": "stdout",
     "output_type": "stream",
     "text": [
      "area of hexagon is 2.6\n",
      "area of hexagon is 10.4\n",
      "area of hexagon is 23.4\n"
     ]
    }
   ],
   "source": [
    "def Hexagon(length):\n",
    "    Area = (3*(math.sqrt(3))* length*length)/2\n",
    "    print(f'area of hexagon is {Area:.1f}')\n",
    "    \n",
    "Hexagon(1)\n",
    "Hexagon(2)\n",
    "Hexagon(3)"
   ]
  },
  {
   "cell_type": "markdown",
   "id": "c99e62e9",
   "metadata": {},
   "source": [
    "# Question 5. Create a function that returns a base-2 (binary) representation of a base-10 (decimal) string number. To convert is simple: ((2) means base-2 and (10) means base-10) 010101001(2) = 1 + 8 + 32 + 128. Going from right to left, the value of the most right bit is 1, now from that every bit to the left will be x2 the value, value of an 8 bit binary numbers are (256, 128, 64, 32, 16, 8, 4, 2, 1)."
   ]
  },
  {
   "cell_type": "markdown",
   "id": "1f2194d0",
   "metadata": {},
   "source": [
    "Examples\n",
    "binary(1) ➞ &quot;1&quot;\n",
    "# 1*1 = 1\n",
    "binary(5) ➞ &quot;101&quot;\n",
    "# 1*1 + 1*4 = 5\n",
    "binary(10) ➞ &quot;1010&quot;\n",
    "# 1*2 + 1*8 = 10"
   ]
  },
  {
   "cell_type": "code",
   "execution_count": 18,
   "id": "4fbfdf54",
   "metadata": {},
   "outputs": [
    {
     "name": "stdout",
     "output_type": "stream",
     "text": [
      "Enter a Number: 1\n",
      "Binary of 1 ➞ 1\n",
      "Enter a Number: 5\n",
      "Binary of 5 ➞ 101\n",
      "Enter a Number: 10\n",
      "Binary of 10 ➞ 1010\n"
     ]
    }
   ],
   "source": [
    "def getBinary():\n",
    "    in_num = int(input(\"Enter a Number: \"))\n",
    "    out_num = bin(in_num).replace('0b','') \n",
    "    print(f'Binary of {in_num} ➞ {out_num}')\n",
    "\n",
    "for x in range(3):\n",
    "    getBinary()"
   ]
  },
  {
   "cell_type": "code",
   "execution_count": null,
   "id": "a79eb839",
   "metadata": {},
   "outputs": [],
   "source": []
  }
 ],
 "metadata": {
  "kernelspec": {
   "display_name": "Python 3 (ipykernel)",
   "language": "python",
   "name": "python3"
  },
  "language_info": {
   "codemirror_mode": {
    "name": "ipython",
    "version": 3
   },
   "file_extension": ".py",
   "mimetype": "text/x-python",
   "name": "python",
   "nbconvert_exporter": "python",
   "pygments_lexer": "ipython3",
   "version": "3.9.7"
  }
 },
 "nbformat": 4,
 "nbformat_minor": 5
}
