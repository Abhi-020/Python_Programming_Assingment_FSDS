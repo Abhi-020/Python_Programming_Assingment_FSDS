{
 "cells": [
  {
   "cell_type": "markdown",
   "id": "b2a2b5df",
   "metadata": {},
   "source": [
    "# Programming_Assingment_17"
   ]
  },
  {
   "cell_type": "markdown",
   "id": "75821425",
   "metadata": {},
   "source": [
    "# Question1. Create a function that takes three arguments a, b, c and returns the sum of the numbers that are evenly divided by c from the range a, b inclusive.\n",
    "Examples\n",
    "evenly_divisible(1, 10, 20) ➞ 0\n",
    "# No number between 1 and 10 can be evenly divided by 20.\n",
    "\n",
    "evenly_divisible(1, 10, 2) ➞ 30\n",
    "# 2 + 4 + 6 + 8 + 10 = 30\n",
    "\n",
    "evenly_divisible(1, 10, 3) ➞ 18\n",
    "# 3 + 6 + 9 = 18\n"
   ]
  },
  {
   "cell_type": "code",
   "execution_count": 5,
   "id": "0dfb8e9d",
   "metadata": {},
   "outputs": [
    {
     "name": "stdout",
     "output_type": "stream",
     "text": [
      "enter the value of a : 1\n",
      "enter the value of b : 10\n",
      "enter the value of c : 2\n",
      "(1, 10, 2) -> 30\n"
     ]
    }
   ],
   "source": [
    "def SumofEvenlydivisible():\n",
    "    a=int(input(\"enter the value of a : \"))\n",
    "    b=int(input(\"enter the value of b : \"))\n",
    "    c=int(input(\"enter the value of c : \"))\n",
    "    sum=0\n",
    "    for i in range(a,b+1):\n",
    "        if i%c== 0:\n",
    "            sum=sum+i\n",
    "    print(f'{a,b,c} -> {sum}')\n",
    "    \n",
    "    \n",
    "SumofEvenlydivisible()"
   ]
  },
  {
   "cell_type": "markdown",
   "id": "c1bfc5f9",
   "metadata": {},
   "source": [
    "# Question2. Create a function that returns True if a given inequality expression is correct and False otherwise.\n",
    "Examples\n",
    "correct_signs(\"3 < 7 < 11\") ➞ True\n",
    "\n",
    "correct_signs(\"13 > 44 > 33 > 1\") ➞ False\n",
    "\n",
    "correct_signs(\"1 < 2 < 6 < 9 > 3\") ➞ True\n"
   ]
  },
  {
   "cell_type": "code",
   "execution_count": 11,
   "id": "f6f7930d",
   "metadata": {},
   "outputs": [
    {
     "name": "stdout",
     "output_type": "stream",
     "text": [
      "enter the inequality :3<7<11\n",
      "3<7<11 -> True\n",
      "enter the inequality :13>44>33>1\n",
      "13>44>33>1 -> False\n",
      "enter the inequality :1<2<6<9>3\n",
      "1<2<6<9>3 -> True\n"
     ]
    }
   ],
   "source": [
    "def checkInequality():\n",
    "    in_str =input(\"enter the inequality :\")\n",
    "    output = eval(in_str)\n",
    "    print(f'{in_str} -> {output}')\n",
    "    \n",
    "\n",
    "for i in range(3):\n",
    "    checkInequality()"
   ]
  },
  {
   "cell_type": "markdown",
   "id": "e15bb270",
   "metadata": {},
   "source": [
    "# Question3. Create a function that replaces all the vowels in a string with a specified character.\n",
    "Examples\n",
    "replace_vowels(\"the aardvark\", \"#\") ➞ \"th# ##rdv#rk\"\n",
    "\n",
    "replace_vowels(\"minnie mouse\", \"?\") ➞ \"m?nn?? m??s?\"\n",
    "\n",
    "replace_vowels(\"shakespeare\", \"*\") ➞ \"sh*k*sp**r*\"\n"
   ]
  },
  {
   "cell_type": "code",
   "execution_count": 12,
   "id": "3b0756be",
   "metadata": {},
   "outputs": [
    {
     "name": "stdout",
     "output_type": "stream",
     "text": [
      "enter a string :the aardvark\n",
      "enter the replacement Character : #\n",
      "the aardvark # -> th# ##rdv#rk\n",
      "enter a string :minnie mouse\n",
      "enter the replacement Character : ?\n",
      "minnie mouse ? -> m?nn?? m??s?\n",
      "enter a string :shakespeare\n",
      "enter the replacement Character : *\n",
      "shakespeare * -> sh*k*sp**r*\n"
     ]
    }
   ],
   "source": [
    "def ReplaceVowel():\n",
    "    in_str = input(\"enter a string :\")\n",
    "    in_str_copy = in_str\n",
    "    in_char = input(\"enter the replacement Character : \")\n",
    "    vow = ['a','e','i','o','u','A','E','I','O','U']\n",
    "    out_str =[]\n",
    "    for i in in_str:\n",
    "        if i in vow:\n",
    "            in_str=in_str.replace(i,in_char)\n",
    "    print(f'{in_str_copy} {in_char} -> {in_str}')\n",
    "    \n",
    "    \n",
    "for x in range(3):\n",
    "    ReplaceVowel()\n",
    "    \n",
    "    \n",
    "    \n",
    "            "
   ]
  },
  {
   "cell_type": "markdown",
   "id": "02273dce",
   "metadata": {},
   "source": [
    "# Question4. Write a function that calculates the factorial of a number recursively.\n",
    "Examples\n",
    "factorial(5) ➞ 120\n",
    "\n",
    "factorial(3) ➞ 6\n",
    "\n",
    "factorial(1) ➞ 1\n",
    "\n",
    "factorial(0) ➞ 1\n"
   ]
  },
  {
   "cell_type": "code",
   "execution_count": 18,
   "id": "2027ecfc",
   "metadata": {},
   "outputs": [
    {
     "name": "stdout",
     "output_type": "stream",
     "text": [
      "factorial(5)-> 120\n",
      "factorial(3)-> 6\n",
      "factorial(1)-> 1\n",
      "factorial(0)-> 1\n"
     ]
    }
   ],
   "source": [
    "def Factorial(n):\n",
    "    if n==0:\n",
    "        return 1\n",
    "    return n * Factorial(n-1)\n",
    "print(f'factorial(5)-> {Factorial(5)}')\n",
    "print(f'factorial(3)-> {Factorial(3)}')\n",
    "print(f'factorial(1)-> {Factorial(1)}')\n",
    "print(f'factorial(0)-> {Factorial(0)}')\n",
    "    "
   ]
  },
  {
   "cell_type": "markdown",
   "id": "24436e42",
   "metadata": {},
   "source": [
    "# Question 5Hamming distance is the number of characters that differ between two strings.\n",
    "To illustrate:\n",
    "String1: \"abcbba\"\n",
    "String2: \"abcbda\"\n",
    "\n",
    "Hamming Distance: 1 - \"b\" vs. \"d\" is the only difference.\n",
    "Create a function that computes the hamming distance between two strings.\n",
    "Examples\n",
    "hamming_distance(\"abcde\", \"bcdef\") ➞ 5\n",
    "\n",
    "hamming_distance(\"abcde\", \"abcde\") ➞ 0\n",
    "\n",
    "hamming_distance(\"strong\", \"strung\") ➞ 1\n",
    "\n"
   ]
  },
  {
   "cell_type": "code",
   "execution_count": 19,
   "id": "123eb9cc",
   "metadata": {},
   "outputs": [
    {
     "name": "stdout",
     "output_type": "stream",
     "text": [
      "enter string1 : abcde\n",
      "enter string2 : bcdef\n",
      "Hamming distance b/w abcde and bcdef --> 5\n",
      "enter string1 : abcde\n",
      "enter string2 : abcde\n",
      "Hamming distance b/w abcde and abcde --> 0\n",
      "enter string1 : strong\n",
      "enter string2 : strung\n",
      "Hamming distance b/w strong and strung --> 1\n"
     ]
    }
   ],
   "source": [
    "def computeHammingDistance():\n",
    "    in_str_1 = input(\"enter string1 : \")\n",
    "    in_str_2 = input(\"enter string2 : \")\n",
    "    if len(in_str_1) == len(in_str_2):\n",
    "        count =0\n",
    "        for i in range(len(in_str_1)):\n",
    "            if in_str_1[i]!= in_str_2[i]:\n",
    "                count=count+1\n",
    "                \n",
    "        print(f'Hamming distance b/w {in_str_1} and {in_str_2} --> {count}')\n",
    "    else:\n",
    "        print(\"both strings should be of same length\")\n",
    "        \n",
    "        \n",
    "for x in range(3):\n",
    "    computeHammingDistance()\n",
    "    "
   ]
  },
  {
   "cell_type": "code",
   "execution_count": 20,
   "id": "800e7bf8",
   "metadata": {},
   "outputs": [
    {
     "name": "stdout",
     "output_type": "stream",
     "text": [
      "enter string1 : vsjfvasuhf\n",
      "enter string2 : hs\n",
      "both strings should be of same length\n"
     ]
    }
   ],
   "source": [
    "computeHammingDistance()"
   ]
  },
  {
   "cell_type": "code",
   "execution_count": null,
   "id": "9a0b8e1c",
   "metadata": {},
   "outputs": [],
   "source": []
  }
 ],
 "metadata": {
  "kernelspec": {
   "display_name": "Python 3 (ipykernel)",
   "language": "python",
   "name": "python3"
  },
  "language_info": {
   "codemirror_mode": {
    "name": "ipython",
    "version": 3
   },
   "file_extension": ".py",
   "mimetype": "text/x-python",
   "name": "python",
   "nbconvert_exporter": "python",
   "pygments_lexer": "ipython3",
   "version": "3.9.7"
  }
 },
 "nbformat": 4,
 "nbformat_minor": 5
}
