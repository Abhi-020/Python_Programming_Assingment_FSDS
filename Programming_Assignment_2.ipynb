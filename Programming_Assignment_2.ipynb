{
 "cells": [
  {
   "cell_type": "markdown",
   "id": "95c8ce08",
   "metadata": {},
   "source": [
    "# Programming_Assignment_2"
   ]
  },
  {
   "cell_type": "markdown",
   "id": "5307d4bc",
   "metadata": {},
   "source": [
    "# 1.\tWrite a Python program to convert kilometers to miles?"
   ]
  },
  {
   "cell_type": "code",
   "execution_count": 3,
   "id": "0dfad4b7",
   "metadata": {},
   "outputs": [
    {
     "name": "stdout",
     "output_type": "stream",
     "text": [
      "enter the value in kilometer 15\n",
      " converted into miles  9.32056785\n"
     ]
    }
   ],
   "source": [
    "a = float(input(\"enter the value in kilometer \"))\n",
    "mile= a*0.62137119\n",
    "print(\" converted into miles \", mile)"
   ]
  },
  {
   "cell_type": "markdown",
   "id": "d4f429e6",
   "metadata": {},
   "source": [
    "# 2.\tWrite a Python program to convert Celsius to Fahrenheit?"
   ]
  },
  {
   "cell_type": "code",
   "execution_count": 5,
   "id": "bace708a",
   "metadata": {},
   "outputs": [
    {
     "name": "stdout",
     "output_type": "stream",
     "text": [
      "enter the temperature into celsius 37\n",
      " converted into fahrenheit temp  98.6\n"
     ]
    }
   ],
   "source": [
    "c = float(input(\"enter the temperature into celsius \"))\n",
    "f= (c*9/5)+32\n",
    "print(\" converted into fahrenheit temp \" , f)\n",
    "\n"
   ]
  },
  {
   "cell_type": "markdown",
   "id": "54b0f9fa",
   "metadata": {},
   "source": [
    "# 3.\tWrite a Python program to display calendar?"
   ]
  },
  {
   "cell_type": "code",
   "execution_count": 22,
   "id": "17d63b06",
   "metadata": {},
   "outputs": [
    {
     "name": "stdout",
     "output_type": "stream",
     "text": [
      " enter calender yaer :2022\n",
      "                                  2022\n",
      "\n",
      "      January                   February                   March\n",
      "Mo Tu We Th Fr Sa Su      Mo Tu We Th Fr Sa Su      Mo Tu We Th Fr Sa Su\n",
      "                1  2          1  2  3  4  5  6          1  2  3  4  5  6\n",
      " 3  4  5  6  7  8  9       7  8  9 10 11 12 13       7  8  9 10 11 12 13\n",
      "10 11 12 13 14 15 16      14 15 16 17 18 19 20      14 15 16 17 18 19 20\n",
      "17 18 19 20 21 22 23      21 22 23 24 25 26 27      21 22 23 24 25 26 27\n",
      "24 25 26 27 28 29 30      28                        28 29 30 31\n",
      "31\n",
      "\n",
      "       April                      May                       June\n",
      "Mo Tu We Th Fr Sa Su      Mo Tu We Th Fr Sa Su      Mo Tu We Th Fr Sa Su\n",
      "             1  2  3                         1             1  2  3  4  5\n",
      " 4  5  6  7  8  9 10       2  3  4  5  6  7  8       6  7  8  9 10 11 12\n",
      "11 12 13 14 15 16 17       9 10 11 12 13 14 15      13 14 15 16 17 18 19\n",
      "18 19 20 21 22 23 24      16 17 18 19 20 21 22      20 21 22 23 24 25 26\n",
      "25 26 27 28 29 30         23 24 25 26 27 28 29      27 28 29 30\n",
      "                          30 31\n",
      "\n",
      "        July                     August                  September\n",
      "Mo Tu We Th Fr Sa Su      Mo Tu We Th Fr Sa Su      Mo Tu We Th Fr Sa Su\n",
      "             1  2  3       1  2  3  4  5  6  7                1  2  3  4\n",
      " 4  5  6  7  8  9 10       8  9 10 11 12 13 14       5  6  7  8  9 10 11\n",
      "11 12 13 14 15 16 17      15 16 17 18 19 20 21      12 13 14 15 16 17 18\n",
      "18 19 20 21 22 23 24      22 23 24 25 26 27 28      19 20 21 22 23 24 25\n",
      "25 26 27 28 29 30 31      29 30 31                  26 27 28 29 30\n",
      "\n",
      "      October                   November                  December\n",
      "Mo Tu We Th Fr Sa Su      Mo Tu We Th Fr Sa Su      Mo Tu We Th Fr Sa Su\n",
      "                1  2          1  2  3  4  5  6                1  2  3  4\n",
      " 3  4  5  6  7  8  9       7  8  9 10 11 12 13       5  6  7  8  9 10 11\n",
      "10 11 12 13 14 15 16      14 15 16 17 18 19 20      12 13 14 15 16 17 18\n",
      "17 18 19 20 21 22 23      21 22 23 24 25 26 27      19 20 21 22 23 24 25\n",
      "24 25 26 27 28 29 30      28 29 30                  26 27 28 29 30 31\n",
      "31\n",
      "\n"
     ]
    }
   ],
   "source": [
    "import calendar\n",
    "year = int(input(\" enter calender yaer :\"))\n",
    "print(calendar.calendar(year))"
   ]
  },
  {
   "cell_type": "markdown",
   "id": "a7c2d81f",
   "metadata": {},
   "source": [
    "# 4.\tWrite a Python program to solve quadratic equation?"
   ]
  },
  {
   "cell_type": "code",
   "execution_count": 18,
   "id": "af4406be",
   "metadata": {},
   "outputs": [
    {
     "name": "stdout",
     "output_type": "stream",
     "text": [
      " Enter the value of a co-efficient 2\n",
      " Enter the value of b co-efficient 4\n",
      " Enter the value of c co-efficient 6\n",
      "Roots are Imaginary (-1-1.4142135623730951j) (-1+1.4142135623730951j)\n"
     ]
    }
   ],
   "source": [
    "import cmath\n",
    "import math\n",
    "def quard(a,b,c):\n",
    "    dis = b*b-4*a*c\n",
    "    \n",
    "    if dis==0:\n",
    "        r1 =-b/2*a\n",
    "        r2 =-b/2*a\n",
    "        print(\"real roots\", r1 , r2)\n",
    "    elif dis>0 :\n",
    "        r1 = (-b-math.sqrt(dis))/(2 * a)\n",
    "        r2 = (-b+math.sqrt(dis))/(2 * a)\n",
    "        print(\"Roots are Real and different\",r1 , r2)\n",
    "    else :\n",
    "        r1 = (-b-cmath.sqrt(dis))/(2 * a)\n",
    "        r2 = (-b+cmath.sqrt(dis))/(2 * a)\n",
    "        print(\"Roots are Imaginary\",r1,r2)\n",
    "        \n",
    "a= int(input(\" Enter the value of a co-efficient \"))\n",
    "b= int(input(\" Enter the value of b co-efficient \"))\n",
    "c= int(input(\" Enter the value of c co-efficient \"))\n",
    "    \n",
    "quard(a,b,c)"
   ]
  },
  {
   "cell_type": "markdown",
   "id": "cfe1860f",
   "metadata": {},
   "source": [
    "# 5.\tWrite a Python program to swap two variables without temp variable?"
   ]
  },
  {
   "cell_type": "code",
   "execution_count": 20,
   "id": "c0868273",
   "metadata": {},
   "outputs": [
    {
     "name": "stdout",
     "output_type": "stream",
     "text": [
      "enter the first number : 50\n",
      "enter the first number : 60\n",
      "before swapping value  50 60\n",
      "after swapping value  60 50\n"
     ]
    }
   ],
   "source": [
    "num_1 = int(input(\"enter the first number : \"))\n",
    "num_2 = int(input(\"enter the first number : \"))\n",
    "\n",
    "def swap(num_1, num_2):\n",
    "    print(\"before swapping value \" , num_1 , num_2)\n",
    "    t = num_1\n",
    "    num_1 = num_2\n",
    "    num_2 = t\n",
    "    print(\"after swapping value \", num_1, num_2)\n",
    "    \n",
    "    \n",
    "swap(num_1,num_2)\n"
   ]
  },
  {
   "cell_type": "code",
   "execution_count": null,
   "id": "03f27f23",
   "metadata": {},
   "outputs": [],
   "source": []
  }
 ],
 "metadata": {
  "kernelspec": {
   "display_name": "Python 3 (ipykernel)",
   "language": "python",
   "name": "python3"
  },
  "language_info": {
   "codemirror_mode": {
    "name": "ipython",
    "version": 3
   },
   "file_extension": ".py",
   "mimetype": "text/x-python",
   "name": "python",
   "nbconvert_exporter": "python",
   "pygments_lexer": "ipython3",
   "version": "3.9.7"
  }
 },
 "nbformat": 4,
 "nbformat_minor": 5
}
