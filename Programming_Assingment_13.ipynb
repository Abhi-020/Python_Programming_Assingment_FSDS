{
 "cells": [
  {
   "cell_type": "markdown",
   "id": "680745d5",
   "metadata": {},
   "source": [
    "# Assingment_13_Solutions"
   ]
  },
  {
   "cell_type": "markdown",
   "id": "3a9fa512",
   "metadata": {},
   "source": [
    "Question 1:\n",
    "Write a program that calculates and prints the value according to the given formula:\n",
    "Q = Square root of [(2 * C * D)/H]\n",
    "Following are the fixed values of C and H:\n",
    "C is 50. H is 30.\n",
    "D is the variable whose values should be input to your program in a comma-separated\n",
    "sequence.\n",
    "Example\n",
    "Let us assume the following comma separated input sequence is given to the program:\n",
    "100,150,180\n",
    "The output of the program should be:\n",
    "18,22,24"
   ]
  },
  {
   "cell_type": "code",
   "execution_count": 9,
   "id": "58fdf79c",
   "metadata": {},
   "outputs": [
    {
     "name": "stdout",
     "output_type": "stream",
     "text": [
      "enter the Input : 100,150,180\n",
      "output : 18,22,24\n"
     ]
    }
   ],
   "source": [
    "from math import sqrt\n",
    "\n",
    "def squareroot():\n",
    "    D = eval(input(\"enter the Input : \"))\n",
    "    output =[]\n",
    "    C=50\n",
    "    H=30\n",
    "    for i in D:\n",
    "        Q= str(int(sqrt((2*C*i)/H)))\n",
    "        output.append(Q)\n",
    "    print(\"output : {}\".format(','.join(output)))\n",
    "    \n",
    "\n",
    "squareroot()"
   ]
  },
  {
   "cell_type": "markdown",
   "id": "0756f33b",
   "metadata": {},
   "source": [
    "# Question 2: Write a program which takes 2 digits, X,Y as input and generates a 2-dimensional array. The element value in the i-th row and j-th column of the array should be i*j."
   ]
  },
  {
   "cell_type": "markdown",
   "id": "97d18361",
   "metadata": {},
   "source": [
    "Note: i=0,1.., X-1; j=0,1,¡Y-1.\n",
    "Example\n",
    "Suppose the following inputs are given to the program:\n",
    "3,5\n",
    "Then, the output of the program should be:\n",
    "[[0, 0, 0, 0, 0], [0, 1, 2, 3, 4], [0, 2, 4, 6, 8]]"
   ]
  },
  {
   "cell_type": "code",
   "execution_count": 19,
   "id": "88a7bce7",
   "metadata": {},
   "outputs": [
    {
     "name": "stdout",
     "output_type": "stream",
     "text": [
      "enter the No. of Rows: 2\n",
      "enter the No. of Columns : 3\n",
      "[[0, 0, 0], [0, 1, 2]]\n"
     ]
    }
   ],
   "source": [
    "import array as ar\n",
    "def genArray():\n",
    "    in_x = int(input(\"enter the No. of Rows: \"))\n",
    "    in_y = int(input(\"enter the No. of Columns : \"))\n",
    "    output =[]\n",
    "    for i in range(in_x):\n",
    "        output.insert(in_x,[])\n",
    "        for j in  range(in_y):\n",
    "            output[i].append(i*j)\n",
    "    print(output)\n",
    "    \n",
    "genArray()"
   ]
  },
  {
   "cell_type": "markdown",
   "id": "6e274340",
   "metadata": {},
   "source": [
    "# Question 3:\n",
    "Write a program that accepts a comma separated sequence of words as input and prints the\n",
    "words in a comma-separated sequence after sorting them alphabetically.\n",
    "Suppose the following input is supplied to the program:\n",
    "without,hello,bag,world\n",
    "Then, the output should be:\n",
    "bag,hello,without,world"
   ]
  },
  {
   "cell_type": "code",
   "execution_count": 20,
   "id": "6be84352",
   "metadata": {},
   "outputs": [
    {
     "name": "stdout",
     "output_type": "stream",
     "text": [
      "enter the Input String : without,hello,bag,world\n",
      "output : bag,hello,without,world\n"
     ]
    }
   ],
   "source": [
    "def sorting():\n",
    "    in_str = input(\"enter the Input String : \")\n",
    "    out_str =','.join(sorted(in_str.split(',')))\n",
    "    print(f'output : {out_str}')\n",
    "    \n",
    "sorting()"
   ]
  },
  {
   "cell_type": "markdown",
   "id": "1337f47e",
   "metadata": {},
   "source": [
    "# Question 4:\n",
    "Write a program that accepts a sequence of whitespace separated words as input and prints\n",
    "the words after removing all duplicate words and sorting them alphanumerically.\n",
    "Suppose the following input is supplied to the program:\n",
    "hello world and practice makes perfect and hello world again\n",
    "Then, the output should be:\n",
    "again and hello makes perfect practice world"
   ]
  },
  {
   "cell_type": "code",
   "execution_count": 21,
   "id": "6d6d5918",
   "metadata": {},
   "outputs": [
    {
     "name": "stdout",
     "output_type": "stream",
     "text": [
      "enter the Input String : hello world and practice makes perfect and hello world again\n",
      "output : again and hello makes perfect practice world\n"
     ]
    }
   ],
   "source": [
    "def removeduplicateandsort():\n",
    "    in_str = input(\"enter the Input String : \")\n",
    "    out_str = ' '.join(sorted(sorted(list(set(in_str.split(\" \"))))))\n",
    "    print(f'output : {out_str}')\n",
    "    \n",
    "removeduplicateandsort()"
   ]
  },
  {
   "cell_type": "markdown",
   "id": "b61861ee",
   "metadata": {},
   "source": [
    "# Question 5:\n",
    "Write a program that accepts a sentence and calculate the number of letters and digits.\n",
    "Suppose the following input is supplied to the program:\n",
    "hello world! 123\n",
    "Then, the output should be:\n",
    "LETTERS 10\n",
    "\n",
    "DIGITS 3"
   ]
  },
  {
   "cell_type": "code",
   "execution_count": 22,
   "id": "86d758ec",
   "metadata": {},
   "outputs": [
    {
     "name": "stdout",
     "output_type": "stream",
     "text": [
      "enter the Input string : hello world! 123\n",
      "Letters 10 \n",
      " Digits 3\n"
     ]
    }
   ],
   "source": [
    "def countLetterDigits():\n",
    "    in_str = input(\"enter the Input string : \")\n",
    "    letterlist = 'ABCDEFGHIJKLMNOPQRSTUVWXYZabcdefghijklmnopqrstuvwxyz'\n",
    "    digitlist ='0123456789'\n",
    "    l=0\n",
    "    d=0\n",
    "    for i in in_str:\n",
    "        if i in letterlist:\n",
    "            l= l +1\n",
    "        if i in digitlist:\n",
    "            d= d+1\n",
    "    print(f'Letters {l} \\n Digits {d}')\n",
    "            \n",
    "        \n",
    "        \n",
    "countLetterDigits()"
   ]
  },
  {
   "cell_type": "markdown",
   "id": "012a0e2d",
   "metadata": {},
   "source": [
    "# Question 6:\n",
    "A website requires the users to input username and password to register. Write a program to\n",
    "check the validity of password input by users.\n",
    "Following are the criteria for checking the password:\n",
    "1. At least 1 letter between [a-z]\n",
    "2. At least 1 number between [0-9]\n",
    "1. At least 1 letter between [A-Z]\n",
    "3. At least 1 character from [$#@]\n",
    "4. Minimum length of transaction password: 6\n",
    "5. Maximum length of transaction password: 12\n",
    "Your program should accept a sequence of comma separated passwords and will check them\n",
    "according to the above criteria. Passwords that match the criteria are to be printed, each\n",
    "separated by a comma.\n",
    "Example\n",
    "If the following passwords are given as input to the program:\n",
    "ABd1234@1,a F1#,2w3E*,2We3345\n",
    "Then, the output of the program should be:\n",
    "ABd1234@1"
   ]
  },
  {
   "cell_type": "code",
   "execution_count": 24,
   "id": "b764993b",
   "metadata": {},
   "outputs": [
    {
     "name": "stdout",
     "output_type": "stream",
     "text": [
      "enter the input String : ABd12345@1,aF1#,2w3E*,2We3345\n",
      "ABd12345@1\n"
     ]
    }
   ],
   "source": [
    "def checkpassword():\n",
    "    in_str = input(\"enter the input String : \")\n",
    "    s_list =\"abcdefghijklmnopqrstuvwxyz\"\n",
    "    c_list =\"ABCDEFGHIJKLMNOPQRSTUVWXYZ\"\n",
    "    num_list =\"0123456789\"\n",
    "    special_list =\"$#@\"\n",
    "    for i in in_str.split(\",\"):\n",
    "        if len(i) <= 12 and len(i) >=6:\n",
    "            if any(j.isupper() for j in i):\n",
    "                if any(j.islower() for j in i):\n",
    "                    if any( j for j in i if j in special_list):\n",
    "                        print(i)\n",
    "                        \n",
    "                        \n",
    "checkpassword()"
   ]
  },
  {
   "cell_type": "code",
   "execution_count": null,
   "id": "47dfb23a",
   "metadata": {},
   "outputs": [],
   "source": []
  }
 ],
 "metadata": {
  "kernelspec": {
   "display_name": "Python 3 (ipykernel)",
   "language": "python",
   "name": "python3"
  },
  "language_info": {
   "codemirror_mode": {
    "name": "ipython",
    "version": 3
   },
   "file_extension": ".py",
   "mimetype": "text/x-python",
   "name": "python",
   "nbconvert_exporter": "python",
   "pygments_lexer": "ipython3",
   "version": "3.9.7"
  }
 },
 "nbformat": 4,
 "nbformat_minor": 5
}
