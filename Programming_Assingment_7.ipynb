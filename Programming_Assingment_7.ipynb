{
 "cells": [
  {
   "cell_type": "markdown",
   "id": "e5c4f5ec",
   "metadata": {},
   "source": [
    "# Programming_Assingment_7"
   ]
  },
  {
   "cell_type": "markdown",
   "id": "8c14feb5",
   "metadata": {},
   "source": [
    "# 1. Write a Python Program to find sum of array?"
   ]
  },
  {
   "cell_type": "code",
   "execution_count": 21,
   "id": "bfaf1d65",
   "metadata": {},
   "outputs": [
    {
     "name": "stdout",
     "output_type": "stream",
     "text": [
      "enter the values in array 10,5,6,7,8,6\n",
      "sum of array is  42\n"
     ]
    }
   ],
   "source": [
    "a= eval(input(\"enter the values in array \"))\n",
    "l= len(a)\n",
    "sum = 0\n",
    "for i in range(l):\n",
    "    sum = sum+a[i]\n",
    "print(\"sum of array is \" , sum)"
   ]
  },
  {
   "cell_type": "markdown",
   "id": "d5f983a6",
   "metadata": {},
   "source": [
    "# 2. Write a Python Program to find largest element in an array?"
   ]
  },
  {
   "cell_type": "code",
   "execution_count": 29,
   "id": "89037d4a",
   "metadata": {},
   "outputs": [
    {
     "name": "stdout",
     "output_type": "stream",
     "text": [
      "enter the values in array :10,45,98,78,100\n",
      "sorted array  [10, 45, 78, 98, 100]\n",
      "largest element is : 100\n"
     ]
    }
   ],
   "source": [
    "arr = eval(input(\"enter the values in array :\"))\n",
    "l= sorted(arr)\n",
    "print(\"sorted array \", l)\n",
    "l\n",
    "largest =l[-1]\n",
    "print(\"largest element is :\", largest )\n",
    "    \n"
   ]
  },
  {
   "cell_type": "markdown",
   "id": "1c86e955",
   "metadata": {},
   "source": [
    "# 3.\tWrite a Python Program for array rotation?"
   ]
  },
  {
   "cell_type": "code",
   "execution_count": 4,
   "id": "0aae2bf6",
   "metadata": {},
   "outputs": [
    {
     "name": "stdout",
     "output_type": "stream",
     "text": [
      "enter the element in array 1,2,3,4,5,6,7,8,9,10\n",
      "reverese of array (1, 2, 3, 4, 5, 6, 7, 8, 9, 10) is (10, 9, 8, 7, 6, 5, 4, 3, 2, 1)\n"
     ]
    }
   ],
   "source": [
    "def arrayrotation():\n",
    "    arr= eval(input(\"enter the element in array \"))\n",
    "    print(f'reverese of array {arr} is {arr[::-1]}')\n",
    "    \n",
    "arrayrotation()"
   ]
  },
  {
   "cell_type": "markdown",
   "id": "75d6eebb",
   "metadata": {},
   "source": [
    "# 4.\tWrite a Python Program to Split the array and add the first part to the end?"
   ]
  },
  {
   "cell_type": "code",
   "execution_count": 5,
   "id": "4c1b2fef",
   "metadata": {},
   "outputs": [
    {
     "name": "stdout",
     "output_type": "stream",
     "text": [
      "enter the element in array 10,5,6,7\n",
      "sum of first and last element of (10, 5, 6, 7) is 17\n"
     ]
    }
   ],
   "source": [
    "def splitarray():\n",
    "    ar = eval(input(\"enter the element in array \"))\n",
    "    print(f'sum of first and last element of {ar} is {ar[0] + ar[-1]}')\n",
    "\n",
    "splitarray()\n",
    "    "
   ]
  },
  {
   "cell_type": "markdown",
   "id": "d27c04e4",
   "metadata": {},
   "source": [
    "# 5.\tWrite a Python Program to check if given array is Monotonic?"
   ]
  },
  {
   "cell_type": "code",
   "execution_count": 24,
   "id": "c193c685",
   "metadata": {},
   "outputs": [
    {
     "name": "stdout",
     "output_type": "stream",
     "text": [
      "enter the element in array : 1,4,6,7,8,2,10\n",
      "(1, 4, 6, 7, 8, 2, 10) is non Monotonic array\n",
      "enter the element in array : 2,2,3,4,5,5\n",
      "(2, 2, 3, 4, 5, 5) is monotonic array\n"
     ]
    }
   ],
   "source": [
    "def monotonic():\n",
    "    arr= eval(input(\"enter the element in array : \"))\n",
    "    s=len(arr)\n",
    "    if (all(arr[i]<=arr[i+1] for i in range(s-1)) or all(arr[i]>=arr[i+1] for i in range(s-1))):\n",
    "        print(f'{arr} is monotonic array')\n",
    "    else:\n",
    "        print(f'{arr} is non Monotonic array')\n",
    "            \n",
    "\n",
    "monotonic()\n",
    "monotonic()"
   ]
  },
  {
   "cell_type": "code",
   "execution_count": null,
   "id": "dd802575",
   "metadata": {},
   "outputs": [],
   "source": []
  }
 ],
 "metadata": {
  "kernelspec": {
   "display_name": "Python 3 (ipykernel)",
   "language": "python",
   "name": "python3"
  },
  "language_info": {
   "codemirror_mode": {
    "name": "ipython",
    "version": 3
   },
   "file_extension": ".py",
   "mimetype": "text/x-python",
   "name": "python",
   "nbconvert_exporter": "python",
   "pygments_lexer": "ipython3",
   "version": "3.9.7"
  }
 },
 "nbformat": 4,
 "nbformat_minor": 5
}
